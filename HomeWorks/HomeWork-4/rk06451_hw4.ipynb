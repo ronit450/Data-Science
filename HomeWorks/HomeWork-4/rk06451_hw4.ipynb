{
 "cells": [
  {
   "attachments": {},
   "cell_type": "markdown",
   "metadata": {},
   "source": [
    "# Name: Ronit Kumar Kataria  (06451)\n",
    "# Email: rk06451@st.habib.edu.pk\n",
    "# HomeWork title: CS 457 - Homework Assignment 4: Statistical Inference"
   ]
  },
  {
   "cell_type": "code",
   "execution_count": 1,
   "metadata": {},
   "outputs": [],
   "source": [
    "import pandas as pd\n",
    "from scipy import stats\n",
    "import numpy as np\n"
   ]
  },
  {
   "cell_type": "code",
   "execution_count": 2,
   "metadata": {},
   "outputs": [],
   "source": [
    "data = pd.read_csv('EmployeeAttrition.csv')\n"
   ]
  },
  {
   "attachments": {},
   "cell_type": "markdown",
   "metadata": {},
   "source": [
    "# Hypothesis Testing"
   ]
  },
  {
   "attachments": {},
   "cell_type": "markdown",
   "metadata": {},
   "source": [
    "<h>Q1 If the MonthlyIncome of Males is greater than Females </h>"
   ]
  },
  {
   "attachments": {},
   "cell_type": "markdown",
   "metadata": {},
   "source": [
    "Null Hypothesis: MonthlyIncome of Females is equal to Female\n",
    "<br>\n",
    "Alternate Hypothesis: MonthlyIncome of Male is greater than Females. "
   ]
  },
  {
   "cell_type": "code",
   "execution_count": 3,
   "metadata": {},
   "outputs": [],
   "source": [
    "male_data = data[(data['Gender'] == 'Male')]['MonthlyIncome']\n",
    "female_data = data[(data['Gender'] == 'Female')]['MonthlyIncome']"
   ]
  },
  {
   "attachments": {},
   "cell_type": "markdown",
   "metadata": {},
   "source": [
    "Since the mean and the variance of data is unknown and the degree of freedon implies number of independent observations, so we will be using \"t-test\".  "
   ]
  },
  {
   "cell_type": "code",
   "execution_count": 4,
   "metadata": {},
   "outputs": [
    {
     "data": {
      "text/plain": [
       "Ttest_indResult(statistic=-1.2212617308870655, pvalue=0.8889084827245605)"
      ]
     },
     "execution_count": 4,
     "metadata": {},
     "output_type": "execute_result"
    }
   ],
   "source": [
    "stats.ttest_ind(male_data, female_data, alternative='greater')\n"
   ]
  },
  {
   "attachments": {},
   "cell_type": "markdown",
   "metadata": {},
   "source": [
    "<h>Analysis:</h>\n",
    "<br>\n",
    "Since the pvalue of the result is higher than 0.05 which is optimal (95%) confidence level, we will have to reject the alterante hypothesis. Thus, we can say that annual income of both genders Male and Female is same. \n",
    "If pvalue would have been less than 0.05 then we can firm our belief that annual income of Male is higher than Females.  "
   ]
  },
  {
   "attachments": {},
   "cell_type": "markdown",
   "metadata": {},
   "source": [
    "<h>Q2 If the WorkLifeBalance of Males is less than Females </h>"
   ]
  },
  {
   "attachments": {},
   "cell_type": "markdown",
   "metadata": {},
   "source": [
    "Null Hypothesis: Both Male and Female have same WorkLifeBalance\n",
    "<br>\n",
    "Alternate Hypothesis: Male have less WorkLifeBalance than Females "
   ]
  },
  {
   "cell_type": "code",
   "execution_count": 5,
   "metadata": {},
   "outputs": [],
   "source": [
    "male_data = data[(data['Gender'] == 'Male')]['WorkLifeBalance']\n",
    "female_data = data[(data['Gender'] == 'Female')]['WorkLifeBalance']"
   ]
  },
  {
   "attachments": {},
   "cell_type": "markdown",
   "metadata": {},
   "source": [
    "Since the mean and the variance of data is unknown and the degree of freedon implies number of independent observations, so we will be using \"t-test\".  "
   ]
  },
  {
   "cell_type": "code",
   "execution_count": 6,
   "metadata": {},
   "outputs": [
    {
     "data": {
      "text/plain": [
       "Ttest_indResult(statistic=-0.10546787956064164, pvalue=0.45800948246831286)"
      ]
     },
     "execution_count": 6,
     "metadata": {},
     "output_type": "execute_result"
    }
   ],
   "source": [
    "stats.ttest_ind(male_data, female_data, alternative='less')"
   ]
  },
  {
   "attachments": {},
   "cell_type": "markdown",
   "metadata": {},
   "source": [
    "<h>Analysis:</h>\n",
    "<br>\n",
    "Since the pvalue of the result is higher than 0.05 which is optimal (95%) confidence level, we will have to reject the alterante hypothesis and stick with null hypothesis. Thus, we can say that work life balance of both male and female is same. \n",
    "If pvalue would have been less than 0.05 then we can firm our belief that Male has less WorkLifeBalance than Female. "
   ]
  },
  {
   "attachments": {},
   "cell_type": "markdown",
   "metadata": {},
   "source": [
    "<h>Q3 If the YearsAtCompany of Single is less than Married </h>"
   ]
  },
  {
   "attachments": {},
   "cell_type": "markdown",
   "metadata": {},
   "source": [
    "Null Hypothesis: YearsAtCompany of Single is equal to Married\n",
    "<br>\n",
    "Alternate Hypothesis: YearsAtCompany of Single is less than Married"
   ]
  },
  {
   "cell_type": "code",
   "execution_count": 7,
   "metadata": {},
   "outputs": [],
   "source": [
    "single_data = data[(data['MaritalStatus'] == 'Single')]['YearsAtCompany']\n",
    "married_data = data[(data['MaritalStatus'] == 'Married')]['YearsAtCompany']\n"
   ]
  },
  {
   "cell_type": "code",
   "execution_count": 8,
   "metadata": {},
   "outputs": [
    {
     "data": {
      "text/plain": [
       "Ttest_indResult(statistic=-2.5589985737464476, pvalue=0.0053127663549315815)"
      ]
     },
     "execution_count": 8,
     "metadata": {},
     "output_type": "execute_result"
    }
   ],
   "source": [
    "stats.ttest_ind(single_data, married_data, alternative='less')"
   ]
  },
  {
   "attachments": {},
   "cell_type": "markdown",
   "metadata": {},
   "source": [
    "<h>Analysis:</h>\n",
    "<br>\n",
    "Since the pvalue of the result is almost equal to 0.05 which is optimal (95%) confidence level, we can either accept Null or Alternate Hypogtheseis. In my option, we should reject the null hypothesis and stick with Alternate hypothesis. Thus, we can have a firm belief that Married Persons have stayed Shorter in Company than Singles. \n",
    " "
   ]
  },
  {
   "attachments": {},
   "cell_type": "markdown",
   "metadata": {},
   "source": [
    "<h>Q4 If the EnvironmentalSatisfaction of Attrition=Yes is less than Attrition=No </h>"
   ]
  },
  {
   "attachments": {},
   "cell_type": "markdown",
   "metadata": {},
   "source": [
    "Null Hypothesis: EnvironmentalSatisfaction of Attrition=Yes is equal to Attrition=No\n",
    "<br>\n",
    "Alternate Hypothesis: EnvironmentalSatisfaction of Attrition=Yes is less than Attrition=No"
   ]
  },
  {
   "cell_type": "code",
   "execution_count": 9,
   "metadata": {},
   "outputs": [],
   "source": [
    "attr_yes = data[(data['Attrition'] == 'Yes')]['EnvironmentSatisfaction']\n",
    "attr_no = data[(data['Attrition'] == 'No')]['EnvironmentSatisfaction']"
   ]
  },
  {
   "cell_type": "code",
   "execution_count": 10,
   "metadata": {},
   "outputs": [
    {
     "data": {
      "text/plain": [
       "Ttest_indResult(statistic=-3.9818600026818496, pvalue=3.58616927468443e-05)"
      ]
     },
     "execution_count": 10,
     "metadata": {},
     "output_type": "execute_result"
    }
   ],
   "source": [
    "stats.ttest_ind(attr_yes, attr_no, alternative='less')"
   ]
  },
  {
   "attachments": {},
   "cell_type": "markdown",
   "metadata": {},
   "source": [
    "<h > Analysis: </h>\n",
    "<br >\n",
    "Since the pvalue of the result is greater than 0.05 which is optimal (95 %) confidence level, we can reject the Alternate hypothesis and stick with Null hypothesis. Thus, we can say that  EnvironmentalSatisfaction of Attrition=Yes is equal to Attrition=No"
   ]
  },
  {
   "attachments": {},
   "cell_type": "markdown",
   "metadata": {},
   "source": [
    "<h>Q5 If the MonthlyIncome of Manager is greater than Laboratory Technician (Hint: Use\n",
    "JobRole to find Manager and Laboratory Technician) </h>"
   ]
  },
  {
   "attachments": {},
   "cell_type": "markdown",
   "metadata": {},
   "source": [
    "Null Hypothesis: Monthly Income of Manager is equal to Labortory Technician \n",
    "<br>\n",
    "Alternate Hypothesis: Monthly Income of Manager is greater than Labortart Technician"
   ]
  },
  {
   "cell_type": "code",
   "execution_count": 11,
   "metadata": {},
   "outputs": [],
   "source": [
    "manager_sal = data[(data['JobRole'] == 'Manager')]['MonthlyIncome']\n",
    "non_manager_sal = data[(data['JobRole'] == 'Laboratory Technician')]['MonthlyIncome']\n"
   ]
  },
  {
   "cell_type": "code",
   "execution_count": 12,
   "metadata": {},
   "outputs": [
    {
     "data": {
      "text/plain": [
       "Ttest_indResult(statistic=76.03317414634023, pvalue=9.971168334368433e-224)"
      ]
     },
     "execution_count": 12,
     "metadata": {},
     "output_type": "execute_result"
    }
   ],
   "source": [
    "stats.ttest_ind(manager_sal, non_manager_sal, alternative='greater')"
   ]
  },
  {
   "attachments": {},
   "cell_type": "markdown",
   "metadata": {},
   "source": [
    "<h > Analysis: </h>\n",
    "<br >\n",
    "Since the pvalue of the result is greater than 0.05 which is optimal (95 %) confidence level, we can reject the Alternate hypothesis and stick with Null hypothesis. Thus, we can say that Managers Earn more than Labortary Technician "
   ]
  },
  {
   "attachments": {},
   "cell_type": "markdown",
   "metadata": {},
   "source": [
    "<h>Q6 s there any association between the Department and Gender </h>"
   ]
  },
  {
   "attachments": {},
   "cell_type": "markdown",
   "metadata": {},
   "source": [
    "Null Hypothesis: There are\n",
    "<br>\n",
    "Alternate Hypothesis: Monthly Income of Manager is greater than Labortart Technician"
   ]
  },
  {
   "attachments": {},
   "cell_type": "markdown",
   "metadata": {},
   "source": [
    "Since this time we are asked to find the association or relationship between two  Categorical entities, so the test we are going to conduct is Chi-Square Test for Independence."
   ]
  },
  {
   "cell_type": "code",
   "execution_count": 13,
   "metadata": {},
   "outputs": [
    {
     "data": {
      "text/plain": [
       "Chi2ContingencyResult(statistic=1.4709421142834458, pvalue=0.47927963769548776, dof=2, expected_freq=array([[ 24.54785156,  38.45214844,  63.        ],\n",
       "       [374.45214844, 586.54785156, 961.        ]]))"
      ]
     },
     "execution_count": 13,
     "metadata": {},
     "output_type": "execute_result"
    }
   ],
   "source": [
    "chi_test = pd.crosstab(data['Department'], data['Gender'], margins=True)\n",
    "value = np.array([chi_test.iloc[0][0:].values, chi_test.iloc[1][0:].values])\n",
    "result = stats.chi2_contingency(value)\n",
    "result\n"
   ]
  },
  {
   "attachments": {},
   "cell_type": "markdown",
   "metadata": {},
   "source": [
    "<h > Analysis: </h>\n",
    "<br >\n",
    "Since the pvalue of the result is greater than 0.05 which is optimal (95 %) confidence level, we can reject the Alternate hypothesis and stick with Null hypothesis. Thus, we can say that there is no relationship between Department and Gender"
   ]
  }
 ],
 "metadata": {
  "kernelspec": {
   "display_name": "Python 3",
   "language": "python",
   "name": "python3"
  },
  "language_info": {
   "codemirror_mode": {
    "name": "ipython",
    "version": 3
   },
   "file_extension": ".py",
   "mimetype": "text/x-python",
   "name": "python",
   "nbconvert_exporter": "python",
   "pygments_lexer": "ipython3",
   "version": "3.10.6"
  },
  "orig_nbformat": 4,
  "vscode": {
   "interpreter": {
    "hash": "709614b38d1699ddf5994d330167a570738408e58b75c68d289075f231c1a920"
   }
  }
 },
 "nbformat": 4,
 "nbformat_minor": 2
}
