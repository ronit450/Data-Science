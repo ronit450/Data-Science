{
 "cells": [
  {
   "attachments": {},
   "cell_type": "markdown",
   "metadata": {},
   "source": [
    "# Name: Ronit Kumar Kataria\n",
    "# Email : rk06451@st.habib.edu.pk\n",
    "# Homework Name: Homework Assignment 3: Exploratory Data Analysis"
   ]
  },
  {
   "cell_type": "code",
   "execution_count": 97,
   "metadata": {},
   "outputs": [],
   "source": [
    "import pandas as pd"
   ]
  },
  {
   "cell_type": "code",
   "execution_count": 98,
   "metadata": {},
   "outputs": [],
   "source": [
    "# Reading the CSV file given\n",
    "data = pd.read_csv('loan_small.csv')\n"
   ]
  },
  {
   "attachments": {},
   "cell_type": "markdown",
   "metadata": {},
   "source": [
    "Cleaning the month column to change it from 36 months to only months"
   ]
  },
  {
   "cell_type": "code",
   "execution_count": 99,
   "metadata": {},
   "outputs": [
    {
     "data": {
      "text/plain": [
       "0      36\n",
       "1      60\n",
       "2      36\n",
       "3      36\n",
       "4      60\n",
       "       ..\n",
       "994    36\n",
       "995    36\n",
       "996    36\n",
       "997    36\n",
       "998    60\n",
       "Name: term, Length: 999, dtype: object"
      ]
     },
     "execution_count": 99,
     "metadata": {},
     "output_type": "execute_result"
    }
   ],
   "source": [
    "data['term'] = data['term'].str.split(' ').str[1]\n",
    "data['term']"
   ]
  },
  {
   "attachments": {},
   "cell_type": "markdown",
   "metadata": {},
   "source": [
    "Cleaning the loan status column for good bad"
   ]
  },
  {
   "cell_type": "code",
   "execution_count": 100,
   "metadata": {},
   "outputs": [
    {
     "name": "stdout",
     "output_type": "stream",
     "text": [
      "['Fully Paid' 'Charged Off' 'Current' 'Default' 'Late (31-120 days)']\n"
     ]
    }
   ],
   "source": [
    "print(data['loan_status'].unique())"
   ]
  },
  {
   "cell_type": "code",
   "execution_count": 101,
   "metadata": {},
   "outputs": [
    {
     "data": {
      "text/plain": [
       "array(['Excellent', 'Average', 'Good', 'Very Poor', 'Poor'], dtype=object)"
      ]
     },
     "execution_count": 101,
     "metadata": {},
     "output_type": "execute_result"
    }
   ],
   "source": [
    "import numpy as np\n",
    "data['loan_status'] = np.where(\n",
    "    data['loan_status'] == 'Fully Paid', \"Excellent\", data['loan_status'])\n",
    "data['loan_status'] = np.where(\n",
    "    data['loan_status'] == 'Current', \"Good\", data['loan_status'])\n",
    "data['loan_status'] = np.where(data['loan_status'] == 'Charged Off', \"Average\", data['loan_status'])\n",
    "data['loan_status'] = np.where(\n",
    "    data['loan_status'] == 'Late (31-120 days)', \"Poor\", data['loan_status'])\n",
    "data['loan_status'] = np.where(\n",
    "    data['loan_status'] == 'Default', \"Very Poor\", data['loan_status'])\n",
    "\n",
    "data['loan_status'].unique()\n",
    "\n"
   ]
  },
  {
   "attachments": {},
   "cell_type": "markdown",
   "metadata": {},
   "source": [
    "Finding columns which has missing values in it"
   ]
  },
  {
   "attachments": {},
   "cell_type": "markdown",
   "metadata": {},
   "source": [
    "Cleaning Employe Lenghth. There were so many logics that can be applied but the simplest of them is to remove all the strings and paste the integer value. There are also some missing values, because the change is very small so we can use mean to full those values. "
   ]
  },
  {
   "cell_type": "code",
   "execution_count": 102,
   "metadata": {},
   "outputs": [
    {
     "data": {
      "text/plain": [
       "0      10.0\n",
       "1       1.0\n",
       "2      10.0\n",
       "3      10.0\n",
       "4       1.0\n",
       "       ... \n",
       "994     5.0\n",
       "995     3.0\n",
       "996     2.0\n",
       "997    10.0\n",
       "998    10.0\n",
       "Name: emp_length, Length: 999, dtype: float64"
      ]
     },
     "execution_count": 102,
     "metadata": {},
     "output_type": "execute_result"
    }
   ],
   "source": [
    "data['emp_length'] = data['emp_length'].str.extract(r'(\\d+)')\n",
    "data['emp_length'] = data['emp_length'].astype(float)\n",
    "mean_region = data['emp_length'].mean()\n",
    "data['emp_length'].fillna(mean_region, inplace=True)\n",
    "data['emp_length']\n"
   ]
  },
  {
   "cell_type": "code",
   "execution_count": 103,
   "metadata": {},
   "outputs": [
    {
     "data": {
      "text/plain": [
       "['emp_title',\n",
       " 'mths_since_last_delinq',\n",
       " 'mths_since_last_record',\n",
       " 'last_pymnt_d']"
      ]
     },
     "execution_count": 103,
     "metadata": {},
     "output_type": "execute_result"
    }
   ],
   "source": [
    "missing_column = data.columns[data.isna().any()].tolist()\n",
    "missing_column\n"
   ]
  },
  {
   "attachments": {},
   "cell_type": "markdown",
   "metadata": {},
   "source": [
    "Column last_patmnt_d is entirely empty so its better to drop the column"
   ]
  },
  {
   "cell_type": "code",
   "execution_count": 104,
   "metadata": {},
   "outputs": [],
   "source": [
    "data = data.drop('last_pymnt_d', axis=1)"
   ]
  },
  {
   "attachments": {},
   "cell_type": "markdown",
   "metadata": {},
   "source": [
    "There is a Categorical Data of emp_tile which is empty so to fill it out we will use Median"
   ]
  },
  {
   "cell_type": "code",
   "execution_count": 105,
   "metadata": {},
   "outputs": [],
   "source": [
    "repeated_region = data['emp_title'].mode()\n",
    "data[\"emp_title\"].fillna(repeated_region.values[0], inplace=True)\n"
   ]
  },
  {
   "cell_type": "code",
   "execution_count": 106,
   "metadata": {},
   "outputs": [
    {
     "data": {
      "text/plain": [
       "['mths_since_last_delinq', 'mths_since_last_record']"
      ]
     },
     "execution_count": 106,
     "metadata": {},
     "output_type": "execute_result"
    }
   ],
   "source": [
    "missing_column = data.columns[data.isna().any()].tolist()\n",
    "missing_column\n"
   ]
  },
  {
   "attachments": {},
   "cell_type": "markdown",
   "metadata": {},
   "source": [
    "Since both columns have very less data as compare to the total data provided so filling the data with mean, median or mode will become irrelevant as this wont be best way to measure their central tendency. Thus an optimal way I found in the book of statistic was to find mean and variance and generate a range of random numbers between that. "
   ]
  },
  {
   "cell_type": "code",
   "execution_count": 107,
   "metadata": {},
   "outputs": [],
   "source": [
    "data['mths_since_last_delinq'] = data['mths_since_last_delinq'].astype(float)\n",
    "variance_of_last_delinq = data['mths_since_last_delinq'].std()\n",
    "mean_of_last_delinq = data['mths_since_last_delinq'].mean()\n",
    "data['mths_since_last_delinq'].fillna(np.random.normal(mean_of_last_delinq, variance_of_last_delinq), inplace=True)\n",
    "\n",
    "# For mths_since_last_record\n",
    "data['mths_since_last_record'] = data['mths_since_last_record'].astype(float)\n",
    "variance_of_last_record = data['mths_since_last_record'].std()\n",
    "mean_of_last_record = data['mths_since_last_record'].mean()\n",
    "data['mths_since_last_record'].fillna(np.random.normal(\n",
    "    variance_of_last_record, mean_of_last_record), inplace=True)\n"
   ]
  },
  {
   "cell_type": "code",
   "execution_count": 108,
   "metadata": {},
   "outputs": [],
   "source": [
    "# Exporting the final cleaned file for analysis\n",
    "data.to_csv(\"cleaned.csv\")"
   ]
  },
  {
   "cell_type": "code",
   "execution_count": null,
   "metadata": {},
   "outputs": [],
   "source": []
  },
  {
   "attachments": {},
   "cell_type": "markdown",
   "metadata": {},
   "source": [
    "Summary for univariate Dataset"
   ]
  },
  {
   "cell_type": "code",
   "execution_count": 109,
   "metadata": {},
   "outputs": [],
   "source": [
    "cleaned_data = pd.read_csv('cleaned.csv')"
   ]
  },
  {
   "cell_type": "code",
   "execution_count": 110,
   "metadata": {},
   "outputs": [
    {
     "data": {
      "text/plain": [
       "grade\n",
       "A    202\n",
       "B    354\n",
       "C    207\n",
       "D    138\n",
       "E     72\n",
       "F     21\n",
       "G      5\n",
       "Name: sub_grade, dtype: int64"
      ]
     },
     "execution_count": 110,
     "metadata": {},
     "output_type": "execute_result"
    }
   ],
   "source": [
    "cleaned_data_grade = cleaned_data.groupby('grade')['sub_grade'].count()\n",
    "cleaned_data_grade"
   ]
  },
  {
   "cell_type": "code",
   "execution_count": 111,
   "metadata": {},
   "outputs": [
    {
     "name": "stderr",
     "output_type": "stream",
     "text": [
      "C:\\Users\\Ronit Kataria\\AppData\\Local\\Temp\\ipykernel_8392\\2627264213.py:1: FutureWarning: Indexing with multiple keys (implicitly converted to a tuple of keys) will be deprecated, use a list instead.\n",
      "  cleaned_data.groupby('int_rate')['term', 'funded_amnt', 'funded_amnt_inv'].mean()\n"
     ]
    },
    {
     "data": {
      "text/html": [
       "<div>\n",
       "<style scoped>\n",
       "    .dataframe tbody tr th:only-of-type {\n",
       "        vertical-align: middle;\n",
       "    }\n",
       "\n",
       "    .dataframe tbody tr th {\n",
       "        vertical-align: top;\n",
       "    }\n",
       "\n",
       "    .dataframe thead th {\n",
       "        text-align: right;\n",
       "    }\n",
       "</style>\n",
       "<table border=\"1\" class=\"dataframe\">\n",
       "  <thead>\n",
       "    <tr style=\"text-align: right;\">\n",
       "      <th></th>\n",
       "      <th>term</th>\n",
       "      <th>funded_amnt</th>\n",
       "      <th>funded_amnt_inv</th>\n",
       "    </tr>\n",
       "    <tr>\n",
       "      <th>int_rate</th>\n",
       "      <th></th>\n",
       "      <th></th>\n",
       "      <th></th>\n",
       "    </tr>\n",
       "  </thead>\n",
       "  <tbody>\n",
       "    <tr>\n",
       "      <th>6.03</th>\n",
       "      <td>36.000000</td>\n",
       "      <td>7225.925926</td>\n",
       "      <td>7223.148148</td>\n",
       "    </tr>\n",
       "    <tr>\n",
       "      <th>6.62</th>\n",
       "      <td>36.000000</td>\n",
       "      <td>10000.892857</td>\n",
       "      <td>10000.000000</td>\n",
       "    </tr>\n",
       "    <tr>\n",
       "      <th>7.51</th>\n",
       "      <td>36.000000</td>\n",
       "      <td>9336.718750</td>\n",
       "      <td>9332.812500</td>\n",
       "    </tr>\n",
       "    <tr>\n",
       "      <th>7.90</th>\n",
       "      <td>37.200000</td>\n",
       "      <td>12060.833333</td>\n",
       "      <td>12058.333333</td>\n",
       "    </tr>\n",
       "    <tr>\n",
       "      <th>8.90</th>\n",
       "      <td>36.872727</td>\n",
       "      <td>12330.909091</td>\n",
       "      <td>12327.272727</td>\n",
       "    </tr>\n",
       "    <tr>\n",
       "      <th>9.91</th>\n",
       "      <td>36.676056</td>\n",
       "      <td>11850.000000</td>\n",
       "      <td>11842.979387</td>\n",
       "    </tr>\n",
       "    <tr>\n",
       "      <th>10.65</th>\n",
       "      <td>38.482759</td>\n",
       "      <td>11048.275862</td>\n",
       "      <td>11019.662086</td>\n",
       "    </tr>\n",
       "    <tr>\n",
       "      <th>11.71</th>\n",
       "      <td>40.571429</td>\n",
       "      <td>11113.690476</td>\n",
       "      <td>11108.109168</td>\n",
       "    </tr>\n",
       "    <tr>\n",
       "      <th>12.42</th>\n",
       "      <td>38.918919</td>\n",
       "      <td>12231.081081</td>\n",
       "      <td>12191.111203</td>\n",
       "    </tr>\n",
       "    <tr>\n",
       "      <th>12.69</th>\n",
       "      <td>43.522388</td>\n",
       "      <td>11009.701493</td>\n",
       "      <td>10959.686382</td>\n",
       "    </tr>\n",
       "    <tr>\n",
       "      <th>13.49</th>\n",
       "      <td>42.915254</td>\n",
       "      <td>11318.644068</td>\n",
       "      <td>11218.164595</td>\n",
       "    </tr>\n",
       "    <tr>\n",
       "      <th>14.27</th>\n",
       "      <td>42.000000</td>\n",
       "      <td>12394.230769</td>\n",
       "      <td>12248.909874</td>\n",
       "    </tr>\n",
       "    <tr>\n",
       "      <th>14.65</th>\n",
       "      <td>43.058824</td>\n",
       "      <td>11617.647059</td>\n",
       "      <td>11466.911765</td>\n",
       "    </tr>\n",
       "    <tr>\n",
       "      <th>15.27</th>\n",
       "      <td>44.470588</td>\n",
       "      <td>12708.823529</td>\n",
       "      <td>12412.566817</td>\n",
       "    </tr>\n",
       "    <tr>\n",
       "      <th>15.96</th>\n",
       "      <td>44.571429</td>\n",
       "      <td>11527.678571</td>\n",
       "      <td>11508.400197</td>\n",
       "    </tr>\n",
       "    <tr>\n",
       "      <th>16.29</th>\n",
       "      <td>36.000000</td>\n",
       "      <td>10007.142857</td>\n",
       "      <td>10007.142857</td>\n",
       "    </tr>\n",
       "    <tr>\n",
       "      <th>16.77</th>\n",
       "      <td>49.090909</td>\n",
       "      <td>13600.568182</td>\n",
       "      <td>13547.148965</td>\n",
       "    </tr>\n",
       "    <tr>\n",
       "      <th>17.27</th>\n",
       "      <td>49.411765</td>\n",
       "      <td>12661.029412</td>\n",
       "      <td>12605.580827</td>\n",
       "    </tr>\n",
       "    <tr>\n",
       "      <th>17.58</th>\n",
       "      <td>53.684211</td>\n",
       "      <td>14246.052632</td>\n",
       "      <td>14169.091925</td>\n",
       "    </tr>\n",
       "    <tr>\n",
       "      <th>18.25</th>\n",
       "      <td>52.615385</td>\n",
       "      <td>15536.538462</td>\n",
       "      <td>15467.793054</td>\n",
       "    </tr>\n",
       "    <tr>\n",
       "      <th>18.64</th>\n",
       "      <td>52.000000</td>\n",
       "      <td>15930.555556</td>\n",
       "      <td>15869.269102</td>\n",
       "    </tr>\n",
       "    <tr>\n",
       "      <th>19.03</th>\n",
       "      <td>56.571429</td>\n",
       "      <td>15800.000000</td>\n",
       "      <td>15604.305610</td>\n",
       "    </tr>\n",
       "    <tr>\n",
       "      <th>19.42</th>\n",
       "      <td>55.200000</td>\n",
       "      <td>19283.333333</td>\n",
       "      <td>18954.440988</td>\n",
       "    </tr>\n",
       "    <tr>\n",
       "      <th>19.91</th>\n",
       "      <td>60.000000</td>\n",
       "      <td>15459.090909</td>\n",
       "      <td>15445.454545</td>\n",
       "    </tr>\n",
       "    <tr>\n",
       "      <th>20.30</th>\n",
       "      <td>58.500000</td>\n",
       "      <td>20448.437500</td>\n",
       "      <td>20252.528751</td>\n",
       "    </tr>\n",
       "    <tr>\n",
       "      <th>20.89</th>\n",
       "      <td>57.000000</td>\n",
       "      <td>20256.250000</td>\n",
       "      <td>20246.875000</td>\n",
       "    </tr>\n",
       "    <tr>\n",
       "      <th>21.28</th>\n",
       "      <td>60.000000</td>\n",
       "      <td>14285.714286</td>\n",
       "      <td>14109.209367</td>\n",
       "    </tr>\n",
       "    <tr>\n",
       "      <th>21.67</th>\n",
       "      <td>60.000000</td>\n",
       "      <td>19733.333333</td>\n",
       "      <td>19414.190543</td>\n",
       "    </tr>\n",
       "    <tr>\n",
       "      <th>22.06</th>\n",
       "      <td>60.000000</td>\n",
       "      <td>15300.000000</td>\n",
       "      <td>15275.000000</td>\n",
       "    </tr>\n",
       "    <tr>\n",
       "      <th>22.35</th>\n",
       "      <td>60.000000</td>\n",
       "      <td>9237.500000</td>\n",
       "      <td>9225.000000</td>\n",
       "    </tr>\n",
       "    <tr>\n",
       "      <th>22.74</th>\n",
       "      <td>60.000000</td>\n",
       "      <td>22400.000000</td>\n",
       "      <td>22400.000000</td>\n",
       "    </tr>\n",
       "    <tr>\n",
       "      <th>23.13</th>\n",
       "      <td>60.000000</td>\n",
       "      <td>12375.000000</td>\n",
       "      <td>12375.000000</td>\n",
       "    </tr>\n",
       "    <tr>\n",
       "      <th>23.52</th>\n",
       "      <td>60.000000</td>\n",
       "      <td>13000.000000</td>\n",
       "      <td>13000.000000</td>\n",
       "    </tr>\n",
       "    <tr>\n",
       "      <th>23.91</th>\n",
       "      <td>60.000000</td>\n",
       "      <td>21512.500000</td>\n",
       "      <td>21487.500000</td>\n",
       "    </tr>\n",
       "  </tbody>\n",
       "</table>\n",
       "</div>"
      ],
      "text/plain": [
       "               term   funded_amnt  funded_amnt_inv\n",
       "int_rate                                          \n",
       "6.03      36.000000   7225.925926      7223.148148\n",
       "6.62      36.000000  10000.892857     10000.000000\n",
       "7.51      36.000000   9336.718750      9332.812500\n",
       "7.90      37.200000  12060.833333     12058.333333\n",
       "8.90      36.872727  12330.909091     12327.272727\n",
       "9.91      36.676056  11850.000000     11842.979387\n",
       "10.65     38.482759  11048.275862     11019.662086\n",
       "11.71     40.571429  11113.690476     11108.109168\n",
       "12.42     38.918919  12231.081081     12191.111203\n",
       "12.69     43.522388  11009.701493     10959.686382\n",
       "13.49     42.915254  11318.644068     11218.164595\n",
       "14.27     42.000000  12394.230769     12248.909874\n",
       "14.65     43.058824  11617.647059     11466.911765\n",
       "15.27     44.470588  12708.823529     12412.566817\n",
       "15.96     44.571429  11527.678571     11508.400197\n",
       "16.29     36.000000  10007.142857     10007.142857\n",
       "16.77     49.090909  13600.568182     13547.148965\n",
       "17.27     49.411765  12661.029412     12605.580827\n",
       "17.58     53.684211  14246.052632     14169.091925\n",
       "18.25     52.615385  15536.538462     15467.793054\n",
       "18.64     52.000000  15930.555556     15869.269102\n",
       "19.03     56.571429  15800.000000     15604.305610\n",
       "19.42     55.200000  19283.333333     18954.440988\n",
       "19.91     60.000000  15459.090909     15445.454545\n",
       "20.30     58.500000  20448.437500     20252.528751\n",
       "20.89     57.000000  20256.250000     20246.875000\n",
       "21.28     60.000000  14285.714286     14109.209367\n",
       "21.67     60.000000  19733.333333     19414.190543\n",
       "22.06     60.000000  15300.000000     15275.000000\n",
       "22.35     60.000000   9237.500000      9225.000000\n",
       "22.74     60.000000  22400.000000     22400.000000\n",
       "23.13     60.000000  12375.000000     12375.000000\n",
       "23.52     60.000000  13000.000000     13000.000000\n",
       "23.91     60.000000  21512.500000     21487.500000"
      ]
     },
     "execution_count": 111,
     "metadata": {},
     "output_type": "execute_result"
    }
   ],
   "source": [
    "cleaned_data.groupby('int_rate')['term', 'funded_amnt', 'funded_amnt_inv'].mean()"
   ]
  },
  {
   "attachments": {},
   "cell_type": "markdown",
   "metadata": {},
   "source": [
    "Taking out the mean of annual income of particular employer title so that we can know highest paid emp title"
   ]
  },
  {
   "cell_type": "code",
   "execution_count": 112,
   "metadata": {},
   "outputs": [
    {
     "name": "stderr",
     "output_type": "stream",
     "text": [
      "C:\\Users\\Ronit Kataria\\AppData\\Local\\Temp\\ipykernel_8392\\697636975.py:1: FutureWarning: Indexing with multiple keys (implicitly converted to a tuple of keys) will be deprecated, use a list instead.\n",
      "  cleaned_data.groupby('emp_title')[\n"
     ]
    },
    {
     "data": {
      "text/html": [
       "<div>\n",
       "<style scoped>\n",
       "    .dataframe tbody tr th:only-of-type {\n",
       "        vertical-align: middle;\n",
       "    }\n",
       "\n",
       "    .dataframe tbody tr th {\n",
       "        vertical-align: top;\n",
       "    }\n",
       "\n",
       "    .dataframe thead th {\n",
       "        text-align: right;\n",
       "    }\n",
       "</style>\n",
       "<table border=\"1\" class=\"dataframe\">\n",
       "  <thead>\n",
       "    <tr style=\"text-align: right;\">\n",
       "      <th></th>\n",
       "      <th>emp_length</th>\n",
       "      <th>annual_inc</th>\n",
       "    </tr>\n",
       "    <tr>\n",
       "      <th>emp_title</th>\n",
       "      <th></th>\n",
       "      <th></th>\n",
       "    </tr>\n",
       "  </thead>\n",
       "  <tbody>\n",
       "    <tr>\n",
       "      <th>16th MP BDE, U.S. Army</th>\n",
       "      <td>10.0</td>\n",
       "      <td>71316.0</td>\n",
       "    </tr>\n",
       "    <tr>\n",
       "      <th>3 mile harbor boatyard</th>\n",
       "      <td>2.0</td>\n",
       "      <td>42996.0</td>\n",
       "    </tr>\n",
       "    <tr>\n",
       "      <th>6th Avenue Outfitters</th>\n",
       "      <td>4.0</td>\n",
       "      <td>45000.0</td>\n",
       "    </tr>\n",
       "    <tr>\n",
       "      <th>90 miles cuban cafe</th>\n",
       "      <td>1.0</td>\n",
       "      <td>33000.0</td>\n",
       "    </tr>\n",
       "    <tr>\n",
       "      <th>A Touch Of Italy</th>\n",
       "      <td>8.0</td>\n",
       "      <td>28800.0</td>\n",
       "    </tr>\n",
       "    <tr>\n",
       "      <th>...</th>\n",
       "      <td>...</td>\n",
       "      <td>...</td>\n",
       "    </tr>\n",
       "    <tr>\n",
       "      <th>webb candy</th>\n",
       "      <td>1.0</td>\n",
       "      <td>50000.0</td>\n",
       "    </tr>\n",
       "    <tr>\n",
       "      <th>wells fargo</th>\n",
       "      <td>3.0</td>\n",
       "      <td>30180.0</td>\n",
       "    </tr>\n",
       "    <tr>\n",
       "      <th>wolverton Inc.</th>\n",
       "      <td>10.0</td>\n",
       "      <td>42000.0</td>\n",
       "    </tr>\n",
       "    <tr>\n",
       "      <th>wrisco</th>\n",
       "      <td>1.0</td>\n",
       "      <td>30000.0</td>\n",
       "    </tr>\n",
       "    <tr>\n",
       "      <th>wyoming valley hospital</th>\n",
       "      <td>1.0</td>\n",
       "      <td>30000.0</td>\n",
       "    </tr>\n",
       "  </tbody>\n",
       "</table>\n",
       "<p>918 rows × 2 columns</p>\n",
       "</div>"
      ],
      "text/plain": [
       "                         emp_length  annual_inc\n",
       "emp_title                                      \n",
       "16th MP BDE, U.S. Army         10.0     71316.0\n",
       "3 mile harbor boatyard          2.0     42996.0\n",
       "6th Avenue Outfitters           4.0     45000.0\n",
       "90 miles cuban cafe             1.0     33000.0\n",
       "A Touch Of Italy                8.0     28800.0\n",
       "...                             ...         ...\n",
       "webb candy                      1.0     50000.0\n",
       "wells fargo                     3.0     30180.0\n",
       "wolverton Inc.                 10.0     42000.0\n",
       "wrisco                          1.0     30000.0\n",
       "wyoming valley hospital         1.0     30000.0\n",
       "\n",
       "[918 rows x 2 columns]"
      ]
     },
     "execution_count": 112,
     "metadata": {},
     "output_type": "execute_result"
    }
   ],
   "source": [
    "cleaned_data.groupby('emp_title')[\n",
    "    'emp_length', 'home_ownership', 'annual_inc'].mean()\n"
   ]
  },
  {
   "attachments": {},
   "cell_type": "markdown",
   "metadata": {},
   "source": [
    "Univariate Analysis For the Data \n",
    "For this, I simply took out the colums which have numerical data types and took their summary"
   ]
  },
  {
   "cell_type": "code",
   "execution_count": 113,
   "metadata": {},
   "outputs": [
    {
     "name": "stdout",
     "output_type": "stream",
     "text": [
      "          loan_amnt   funded_amnt  funded_amnt_inv        term    int_rate  \\\n",
      "count    999.000000    999.000000       999.000000  999.000000  999.000000   \n",
      "mean   12704.354354  12197.797798     12137.165302   42.582583   12.961331   \n",
      "std     7463.253235   6804.931895      6743.323264   10.712911    3.881742   \n",
      "min     1000.000000   1000.000000      1000.000000   36.000000    6.030000   \n",
      "25%     7050.000000   7000.000000      7000.000000   36.000000    9.910000   \n",
      "50%    11500.000000  11000.000000     10800.000000   36.000000   12.690000   \n",
      "75%    16050.000000  16000.000000     15946.571055   60.000000   15.960000   \n",
      "max    35000.000000  35000.000000     35000.000000   60.000000   23.910000   \n",
      "\n",
      "       installment  emp_length  \n",
      "count   999.000000   999.00000  \n",
      "mean    366.992743     5.36558  \n",
      "std     200.510423     3.31840  \n",
      "min      33.940000     1.00000  \n",
      "25%     223.440000     2.00000  \n",
      "50%     337.750000     5.00000  \n",
      "75%     469.235000     9.00000  \n",
      "max    1243.850000    10.00000  \n"
     ]
    }
   ],
   "source": [
    "numerical_data = cleaned_data[['loan_amnt', 'funded_amnt', 'funded_amnt_inv',\n",
    "                               'term', 'int_rate', 'installment', 'emp_length']].describe()\n",
    "print(numerical_data)\n",
    "\n",
    "\n",
    "\n"
   ]
  },
  {
   "attachments": {},
   "cell_type": "markdown",
   "metadata": {},
   "source": [
    "Numerical Univariate Analysis Bar Chart with above describe "
   ]
  },
  {
   "cell_type": "code",
   "execution_count": 114,
   "metadata": {},
   "outputs": [
    {
     "data": {
      "text/plain": [
       "<AxesSubplot:ylabel='Frequency'>"
      ]
     },
     "execution_count": 114,
     "metadata": {},
     "output_type": "execute_result"
    },
    {
     "data": {
      "image/png": "[encoded data removed]",
      "text/plain": [
       "<Figure size 1500x1000 with 1 Axes>"
      ]
     },
     "metadata": {},
     "output_type": "display_data"
    }
   ],
   "source": [
    "\n",
    "numerical_data.plot(kind='hist', figsize=(15, 10))\n"
   ]
  },
  {
   "attachments": {},
   "cell_type": "markdown",
   "metadata": {},
   "source": [
    "For Categorical analysis we will first get the summary of them "
   ]
  },
  {
   "cell_type": "code",
   "execution_count": 115,
   "metadata": {},
   "outputs": [
    {
     "name": "stdout",
     "output_type": "stream",
     "text": [
      "       grade loan_status        emp_title\n",
      "count    999         999              999\n",
      "unique     7           5              918\n",
      "top        B   Excellent  Bank of America\n",
      "freq     354         729               54\n"
     ]
    }
   ],
   "source": [
    "categorical_data = cleaned_data[[\n",
    "    'grade', 'loan_status', 'emp_title']].describe()\n",
    "print(categorical_data)\n"
   ]
  },
  {
   "cell_type": "code",
   "execution_count": 116,
   "metadata": {},
   "outputs": [
    {
     "data": {
      "text/plain": [
       "<AxesSubplot:>"
      ]
     },
     "execution_count": 116,
     "metadata": {},
     "output_type": "execute_result"
    },
    {
     "data": {
      "image/png": "[encoded data removed]",
      "text/plain": [
       "<Figure size 640x480 with 1 Axes>"
      ]
     },
     "metadata": {},
     "output_type": "display_data"
    }
   ],
   "source": [
    "cleaned_data['grade'].value_counts().plot(kind='bar')\n",
    "\n"
   ]
  },
  {
   "attachments": {},
   "cell_type": "markdown",
   "metadata": {},
   "source": [
    "The Bar graph shows what is the percentage or count of student who have got their respective grade. "
   ]
  },
  {
   "attachments": {},
   "cell_type": "markdown",
   "metadata": {},
   "source": [
    "Bivariate Analysis are best when we have two variables to compare. Here I will be comparing two most important columns I found which are Employee_length which is how much experinced an employer is vs his annual income. This will give us a brief analysis to show that number of years working is directly proportional to annual income"
   ]
  },
  {
   "cell_type": "code",
   "execution_count": 126,
   "metadata": {},
   "outputs": [
    {
     "data": {
      "text/plain": [
       "<AxesSubplot:xlabel='annual_inc', ylabel='emp_length'>"
      ]
     },
     "execution_count": 126,
     "metadata": {},
     "output_type": "execute_result"
    },
    {
     "data": {
      "image/png": "[encoded data removed]",
      "text/plain": [
       "<Figure size 640x480 with 1 Axes>"
      ]
     },
     "metadata": {},
     "output_type": "display_data"
    }
   ],
   "source": [
    "import seaborn as sns\n",
    "import matplotlib.pyplot as plt\n",
    "cleaned_data['emp_length'] = cleaned_data['emp_length'].astype(str)\n",
    "cleaned_data.plot.scatter(\n",
    "    x='annual_inc', y='emp_length', c='red', cmap='viridis')\n",
    "\n",
    "\n"
   ]
  },
  {
   "attachments": {},
   "cell_type": "markdown",
   "metadata": {},
   "source": [
    "Discrete vs continous bi-variate analysis. for this I am taking grade and annual income to look and analyze whether grades affect our annual income or not. Through this I will be looking if a person getting higher grade is getting a higher income job or not. "
   ]
  },
  {
   "cell_type": "code",
   "execution_count": 146,
   "metadata": {},
   "outputs": [
    {
     "data": {
      "text/plain": [
       "<AxesSubplot:xlabel='annual_inc', ylabel='Density'>"
      ]
     },
     "execution_count": 146,
     "metadata": {},
     "output_type": "execute_result"
    },
    {
     "data": {
      "image/png": "[encoded data removed]",
      "text/plain": [
       "<Figure size 1500x1000 with 1 Axes>"
      ]
     },
     "metadata": {},
     "output_type": "display_data"
    }
   ],
   "source": [
    "plt.figure(figsize=(15, 10))\n",
    "sns.kdeplot(data=cleaned_data, x='annual_inc', hue='grade', fill=True, linewidth=5)"
   ]
  },
  {
   "attachments": {},
   "cell_type": "markdown",
   "metadata": {},
   "source": [
    "# Analysis: \n",
    "This shows that Majority of poupulated density have got B grafe and are in range of 50000-100000 annual salary while students who have got A grade lie in the highest range of Anuual income. \n",
    "There is a mixed review that grades do matter but due to this KDE plot, I can analyze that some students whove have got good grades and other who lie in the C-D grade have almost same annual income job. "
   ]
  },
  {
   "attachments": {},
   "cell_type": "markdown",
   "metadata": {},
   "source": [
    "Co-Relation Plot: It is necessary when we want to know the statistical dependency between two random variable. For this analysis I will be using Loan Status to check what factors make a person defaulter. Is it his lower annual income than the loan amout he borrowed, higher intrest or the amount he invested with reliabele term rate. "
   ]
  },
  {
   "cell_type": "code",
   "execution_count": 135,
   "metadata": {},
   "outputs": [
    {
     "data": {
      "text/html": [
       "<div>\n",
       "<style scoped>\n",
       "    .dataframe tbody tr th:only-of-type {\n",
       "        vertical-align: middle;\n",
       "    }\n",
       "\n",
       "    .dataframe tbody tr th {\n",
       "        vertical-align: top;\n",
       "    }\n",
       "\n",
       "    .dataframe thead th {\n",
       "        text-align: right;\n",
       "    }\n",
       "</style>\n",
       "<table border=\"1\" class=\"dataframe\">\n",
       "  <thead>\n",
       "    <tr style=\"text-align: right;\">\n",
       "      <th></th>\n",
       "      <th>loan_amnt</th>\n",
       "      <th>annual_inc</th>\n",
       "      <th>funded_amnt_inv</th>\n",
       "      <th>term</th>\n",
       "      <th>int_rate</th>\n",
       "      <th>installment</th>\n",
       "    </tr>\n",
       "  </thead>\n",
       "  <tbody>\n",
       "    <tr>\n",
       "      <th>loan_amnt</th>\n",
       "      <td>1.000000</td>\n",
       "      <td>0.303383</td>\n",
       "      <td>0.964687</td>\n",
       "      <td>0.982736</td>\n",
       "      <td>0.967224</td>\n",
       "      <td>0.815621</td>\n",
       "    </tr>\n",
       "    <tr>\n",
       "      <th>annual_inc</th>\n",
       "      <td>0.303383</td>\n",
       "      <td>1.000000</td>\n",
       "      <td>0.130086</td>\n",
       "      <td>0.379288</td>\n",
       "      <td>0.076021</td>\n",
       "      <td>-0.120951</td>\n",
       "    </tr>\n",
       "    <tr>\n",
       "      <th>funded_amnt_inv</th>\n",
       "      <td>0.964687</td>\n",
       "      <td>0.130086</td>\n",
       "      <td>1.000000</td>\n",
       "      <td>0.903213</td>\n",
       "      <td>0.954870</td>\n",
       "      <td>0.938385</td>\n",
       "    </tr>\n",
       "    <tr>\n",
       "      <th>term</th>\n",
       "      <td>0.982736</td>\n",
       "      <td>0.379288</td>\n",
       "      <td>0.903213</td>\n",
       "      <td>1.000000</td>\n",
       "      <td>0.948619</td>\n",
       "      <td>0.700496</td>\n",
       "    </tr>\n",
       "    <tr>\n",
       "      <th>int_rate</th>\n",
       "      <td>0.967224</td>\n",
       "      <td>0.076021</td>\n",
       "      <td>0.954870</td>\n",
       "      <td>0.948619</td>\n",
       "      <td>1.000000</td>\n",
       "      <td>0.836562</td>\n",
       "    </tr>\n",
       "    <tr>\n",
       "      <th>installment</th>\n",
       "      <td>0.815621</td>\n",
       "      <td>-0.120951</td>\n",
       "      <td>0.938385</td>\n",
       "      <td>0.700496</td>\n",
       "      <td>0.836562</td>\n",
       "      <td>1.000000</td>\n",
       "    </tr>\n",
       "  </tbody>\n",
       "</table>\n",
       "</div>"
      ],
      "text/plain": [
       "                 loan_amnt  annual_inc  funded_amnt_inv      term  int_rate  \\\n",
       "loan_amnt         1.000000    0.303383         0.964687  0.982736  0.967224   \n",
       "annual_inc        0.303383    1.000000         0.130086  0.379288  0.076021   \n",
       "funded_amnt_inv   0.964687    0.130086         1.000000  0.903213  0.954870   \n",
       "term              0.982736    0.379288         0.903213  1.000000  0.948619   \n",
       "int_rate          0.967224    0.076021         0.954870  0.948619  1.000000   \n",
       "installment       0.815621   -0.120951         0.938385  0.700496  0.836562   \n",
       "\n",
       "                 installment  \n",
       "loan_amnt           0.815621  \n",
       "annual_inc         -0.120951  \n",
       "funded_amnt_inv     0.938385  \n",
       "term                0.700496  \n",
       "int_rate            0.836562  \n",
       "installment         1.000000  "
      ]
     },
     "execution_count": 135,
     "metadata": {},
     "output_type": "execute_result"
    }
   ],
   "source": [
    "corr = cleaned_data.groupby(by='loan_status').agg('mean')[['loan_amnt', 'annual_inc', 'funded_amnt_inv',\n",
    "                                                       'term', 'int_rate', 'installment']].corr()\n",
    "\n",
    "corr\n"
   ]
  },
  {
   "attachments": {},
   "cell_type": "markdown",
   "metadata": {},
   "source": [
    "From the above Analysis we can see that Those person whose loan status is Excellent has more annual income than the loan they borrowed with a lower intrest rate. "
   ]
  },
  {
   "cell_type": "code",
   "execution_count": 134,
   "metadata": {},
   "outputs": [
    {
     "data": {
      "text/html": [
       "<style type=\"text/css\">\n",
       "#T_eba4d_row0_col0, #T_eba4d_row1_col1, #T_eba4d_row2_col2, #T_eba4d_row3_col3, #T_eba4d_row4_col4, #T_eba4d_row5_col5 {\n",
       "  background-color: #b40426;\n",
       "  color: #f1f1f1;\n",
       "}\n",
       "#T_eba4d_row0_col1 {\n",
       "  background-color: #b9d0f9;\n",
       "  color: #000000;\n",
       "}\n",
       "#T_eba4d_row0_col2 {\n",
       "  background-color: #c32e31;\n",
       "  color: #f1f1f1;\n",
       "}\n",
       "#T_eba4d_row0_col3 {\n",
       "  background-color: #be242e;\n",
       "  color: #f1f1f1;\n",
       "}\n",
       "#T_eba4d_row0_col4 {\n",
       "  background-color: #c12b30;\n",
       "  color: #f1f1f1;\n",
       "}\n",
       "#T_eba4d_row0_col5 {\n",
       "  background-color: #e7745b;\n",
       "  color: #f1f1f1;\n",
       "}\n",
       "#T_eba4d_row1_col0, #T_eba4d_row1_col2, #T_eba4d_row1_col3, #T_eba4d_row1_col4, #T_eba4d_row1_col5, #T_eba4d_row5_col1 {\n",
       "  background-color: #3b4cc0;\n",
       "  color: #f1f1f1;\n",
       "}\n",
       "#T_eba4d_row2_col0, #T_eba4d_row2_col4, #T_eba4d_row4_col0 {\n",
       "  background-color: #c53334;\n",
       "  color: #f1f1f1;\n",
       "}\n",
       "#T_eba4d_row2_col1 {\n",
       "  background-color: #84a7fc;\n",
       "  color: #f1f1f1;\n",
       "}\n",
       "#T_eba4d_row2_col3 {\n",
       "  background-color: #e46e56;\n",
       "  color: #f1f1f1;\n",
       "}\n",
       "#T_eba4d_row2_col5, #T_eba4d_row3_col4 {\n",
       "  background-color: #c83836;\n",
       "  color: #f1f1f1;\n",
       "}\n",
       "#T_eba4d_row3_col0 {\n",
       "  background-color: #bd1f2d;\n",
       "  color: #f1f1f1;\n",
       "}\n",
       "#T_eba4d_row3_col1 {\n",
       "  background-color: #cedaeb;\n",
       "  color: #000000;\n",
       "}\n",
       "#T_eba4d_row3_col2 {\n",
       "  background-color: #d95847;\n",
       "  color: #f1f1f1;\n",
       "}\n",
       "#T_eba4d_row3_col5 {\n",
       "  background-color: #f5a081;\n",
       "  color: #000000;\n",
       "}\n",
       "#T_eba4d_row4_col1 {\n",
       "  background-color: #7295f4;\n",
       "  color: #f1f1f1;\n",
       "}\n",
       "#T_eba4d_row4_col2 {\n",
       "  background-color: #c73635;\n",
       "  color: #f1f1f1;\n",
       "}\n",
       "#T_eba4d_row4_col3 {\n",
       "  background-color: #d1493f;\n",
       "  color: #f1f1f1;\n",
       "}\n",
       "#T_eba4d_row4_col5 {\n",
       "  background-color: #e36b54;\n",
       "  color: #f1f1f1;\n",
       "}\n",
       "#T_eba4d_row5_col0 {\n",
       "  background-color: #f59f80;\n",
       "  color: #000000;\n",
       "}\n",
       "#T_eba4d_row5_col2 {\n",
       "  background-color: #cd423b;\n",
       "  color: #f1f1f1;\n",
       "}\n",
       "#T_eba4d_row5_col3 {\n",
       "  background-color: #e1dad6;\n",
       "  color: #000000;\n",
       "}\n",
       "#T_eba4d_row5_col4 {\n",
       "  background-color: #e97a5f;\n",
       "  color: #f1f1f1;\n",
       "}\n",
       "</style>\n",
       "<table id=\"T_eba4d\">\n",
       "  <thead>\n",
       "    <tr>\n",
       "      <th class=\"blank level0\" >&nbsp;</th>\n",
       "      <th id=\"T_eba4d_level0_col0\" class=\"col_heading level0 col0\" >loan_amnt</th>\n",
       "      <th id=\"T_eba4d_level0_col1\" class=\"col_heading level0 col1\" >annual_inc</th>\n",
       "      <th id=\"T_eba4d_level0_col2\" class=\"col_heading level0 col2\" >funded_amnt_inv</th>\n",
       "      <th id=\"T_eba4d_level0_col3\" class=\"col_heading level0 col3\" >term</th>\n",
       "      <th id=\"T_eba4d_level0_col4\" class=\"col_heading level0 col4\" >int_rate</th>\n",
       "      <th id=\"T_eba4d_level0_col5\" class=\"col_heading level0 col5\" >installment</th>\n",
       "    </tr>\n",
       "  </thead>\n",
       "  <tbody>\n",
       "    <tr>\n",
       "      <th id=\"T_eba4d_level0_row0\" class=\"row_heading level0 row0\" >loan_amnt</th>\n",
       "      <td id=\"T_eba4d_row0_col0\" class=\"data row0 col0\" >1.000000</td>\n",
       "      <td id=\"T_eba4d_row0_col1\" class=\"data row0 col1\" >0.303383</td>\n",
       "      <td id=\"T_eba4d_row0_col2\" class=\"data row0 col2\" >0.964687</td>\n",
       "      <td id=\"T_eba4d_row0_col3\" class=\"data row0 col3\" >0.982736</td>\n",
       "      <td id=\"T_eba4d_row0_col4\" class=\"data row0 col4\" >0.967224</td>\n",
       "      <td id=\"T_eba4d_row0_col5\" class=\"data row0 col5\" >0.815621</td>\n",
       "    </tr>\n",
       "    <tr>\n",
       "      <th id=\"T_eba4d_level0_row1\" class=\"row_heading level0 row1\" >annual_inc</th>\n",
       "      <td id=\"T_eba4d_row1_col0\" class=\"data row1 col0\" >0.303383</td>\n",
       "      <td id=\"T_eba4d_row1_col1\" class=\"data row1 col1\" >1.000000</td>\n",
       "      <td id=\"T_eba4d_row1_col2\" class=\"data row1 col2\" >0.130086</td>\n",
       "      <td id=\"T_eba4d_row1_col3\" class=\"data row1 col3\" >0.379288</td>\n",
       "      <td id=\"T_eba4d_row1_col4\" class=\"data row1 col4\" >0.076021</td>\n",
       "      <td id=\"T_eba4d_row1_col5\" class=\"data row1 col5\" >-0.120951</td>\n",
       "    </tr>\n",
       "    <tr>\n",
       "      <th id=\"T_eba4d_level0_row2\" class=\"row_heading level0 row2\" >funded_amnt_inv</th>\n",
       "      <td id=\"T_eba4d_row2_col0\" class=\"data row2 col0\" >0.964687</td>\n",
       "      <td id=\"T_eba4d_row2_col1\" class=\"data row2 col1\" >0.130086</td>\n",
       "      <td id=\"T_eba4d_row2_col2\" class=\"data row2 col2\" >1.000000</td>\n",
       "      <td id=\"T_eba4d_row2_col3\" class=\"data row2 col3\" >0.903213</td>\n",
       "      <td id=\"T_eba4d_row2_col4\" class=\"data row2 col4\" >0.954870</td>\n",
       "      <td id=\"T_eba4d_row2_col5\" class=\"data row2 col5\" >0.938385</td>\n",
       "    </tr>\n",
       "    <tr>\n",
       "      <th id=\"T_eba4d_level0_row3\" class=\"row_heading level0 row3\" >term</th>\n",
       "      <td id=\"T_eba4d_row3_col0\" class=\"data row3 col0\" >0.982736</td>\n",
       "      <td id=\"T_eba4d_row3_col1\" class=\"data row3 col1\" >0.379288</td>\n",
       "      <td id=\"T_eba4d_row3_col2\" class=\"data row3 col2\" >0.903213</td>\n",
       "      <td id=\"T_eba4d_row3_col3\" class=\"data row3 col3\" >1.000000</td>\n",
       "      <td id=\"T_eba4d_row3_col4\" class=\"data row3 col4\" >0.948619</td>\n",
       "      <td id=\"T_eba4d_row3_col5\" class=\"data row3 col5\" >0.700496</td>\n",
       "    </tr>\n",
       "    <tr>\n",
       "      <th id=\"T_eba4d_level0_row4\" class=\"row_heading level0 row4\" >int_rate</th>\n",
       "      <td id=\"T_eba4d_row4_col0\" class=\"data row4 col0\" >0.967224</td>\n",
       "      <td id=\"T_eba4d_row4_col1\" class=\"data row4 col1\" >0.076021</td>\n",
       "      <td id=\"T_eba4d_row4_col2\" class=\"data row4 col2\" >0.954870</td>\n",
       "      <td id=\"T_eba4d_row4_col3\" class=\"data row4 col3\" >0.948619</td>\n",
       "      <td id=\"T_eba4d_row4_col4\" class=\"data row4 col4\" >1.000000</td>\n",
       "      <td id=\"T_eba4d_row4_col5\" class=\"data row4 col5\" >0.836562</td>\n",
       "    </tr>\n",
       "    <tr>\n",
       "      <th id=\"T_eba4d_level0_row5\" class=\"row_heading level0 row5\" >installment</th>\n",
       "      <td id=\"T_eba4d_row5_col0\" class=\"data row5 col0\" >0.815621</td>\n",
       "      <td id=\"T_eba4d_row5_col1\" class=\"data row5 col1\" >-0.120951</td>\n",
       "      <td id=\"T_eba4d_row5_col2\" class=\"data row5 col2\" >0.938385</td>\n",
       "      <td id=\"T_eba4d_row5_col3\" class=\"data row5 col3\" >0.700496</td>\n",
       "      <td id=\"T_eba4d_row5_col4\" class=\"data row5 col4\" >0.836562</td>\n",
       "      <td id=\"T_eba4d_row5_col5\" class=\"data row5 col5\" >1.000000</td>\n",
       "    </tr>\n",
       "  </tbody>\n",
       "</table>\n"
      ],
      "text/plain": [
       "<pandas.io.formats.style.Styler at 0x252d43b3fd0>"
      ]
     },
     "execution_count": 134,
     "metadata": {},
     "output_type": "execute_result"
    }
   ],
   "source": [
    "corr.style.background_gradient(cmap='coolwarm')\n"
   ]
  },
  {
   "attachments": {},
   "cell_type": "markdown",
   "metadata": {},
   "source": [
    "# Analysis\n",
    "As you can see that annual income and installement has negative co-relation which means that if number of installements goes down which means probably person annual income is higher so that he can pay the loan amount more faster. \n",
    "\n",
    "Loan amount and term rate has almost positive co-relation close to 1, which means if loan amount is higher than intrest rate will also be higher. \n",
    "\n"
   ]
  }
 ],
 "metadata": {
  "kernelspec": {
   "display_name": "Python 3",
   "language": "python",
   "name": "python3"
  },
  "language_info": {
   "codemirror_mode": {
    "name": "ipython",
    "version": 3
   },
   "file_extension": ".py",
   "mimetype": "text/x-python",
   "name": "python",
   "nbconvert_exporter": "python",
   "pygments_lexer": "ipython3",
   "version": "3.10.6"
  },
  "orig_nbformat": 4,
  "vscode": {
   "interpreter": {
    "hash": "709614b38d1699ddf5994d330167a570738408e58b75c68d289075f231c1a920"
   }
  }
 },
 "nbformat": 4,
 "nbformat_minor": 2
}
