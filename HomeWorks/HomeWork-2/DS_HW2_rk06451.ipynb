{
 "cells": [
  {
   "attachments": {},
   "cell_type": "markdown",
   "metadata": {},
   "source": [
    "Ronit Kumar Kataria\n",
    "rk06451@st.habib.edu.pk\n"
   ]
  },
  {
   "attachments": {},
   "cell_type": "markdown",
   "metadata": {},
   "source": [
    "# Part 1\n",
    "Data Cleaning"
   ]
  },
  {
   "cell_type": "markdown",
   "metadata": {},
   "source": []
  },
  {
   "cell_type": "code",
   "execution_count": 51,
   "metadata": {},
   "outputs": [],
   "source": [
    "import pandas as pd"
   ]
  },
  {
   "cell_type": "code",
   "execution_count": 52,
   "metadata": {},
   "outputs": [],
   "source": [
    "df = pd.read_csv('580SurveyCleanup.csv')"
   ]
  },
  {
   "cell_type": "code",
   "execution_count": 53,
   "metadata": {},
   "outputs": [],
   "source": [
    "df_1 = df.iloc[:,1:12]\n",
    "df_1.columns = df_1.iloc[0]\n",
    "df_1 = df_1[1:]\n",
    "\n"
   ]
  },
  {
   "cell_type": "code",
   "execution_count": 54,
   "metadata": {},
   "outputs": [],
   "source": [
    "question_dictonary = {\n",
    "    1: [12, 13],\n",
    "    2: [14, 17],\n",
    "    3: [18, 18],\n",
    "    4: [19, 19],\n",
    "    5: [20, 20],\n",
    "    6: [21, 21],\n",
    "    7: [22, 22],\n",
    "    8: [23, 26],\n",
    "    9: [27, 29],\n",
    "    10: [30, 34],\n",
    "    11: [35, 39],\n",
    "    12: [40, 44],\n",
    "    13: [45, 45]\n",
    "}\n"
   ]
  },
  {
   "cell_type": "code",
   "execution_count": 55,
   "metadata": {},
   "outputs": [],
   "source": [
    "def remove_null_entries(start, end):\n",
    "  temp = []\n",
    "  for i in range(start, end+1):\n",
    "    temp.append(i)\n",
    "  df1 = df.iloc[:,temp]\n",
    "  # Convert all null values to 0\n",
    "  df1.columns = df1.iloc[0].astype(str)\n",
    "  df1 = df1[1:]\n",
    "  column_list = []\n",
    "  for i in df1.columns:\n",
    "    column_list.append(i)\n",
    "  df2 = df1.loc[:, column_list].replace(\"1\", pd.Series(df1.columns, df1.columns)).fillna('')\n",
    "  return df2"
   ]
  },
  {
   "cell_type": "code",
   "execution_count": 56,
   "metadata": {},
   "outputs": [],
   "source": [
    "data_lst = []\n",
    "for i in question_dictonary:\n",
    "  temp = remove_null_entries(question_dictonary[i][0], question_dictonary[i][1])\n",
    "  data_lst.append(temp)  "
   ]
  },
  {
   "cell_type": "code",
   "execution_count": 57,
   "metadata": {},
   "outputs": [],
   "source": [
    "replaced_data = [None] * len(data_lst)\n",
    "for i in range(len(replaced_data)):\n",
    "    column_lst = list(data_lst[i].columns)\n",
    "    replaced_data[i] = data_lst[i].loc[:, column_lst].replace(\n",
    "        1, pd.Series(data_lst[i].columns, data_lst[i].columns)).fillna('')\n",
    "  "
   ]
  },
  {
   "attachments": {},
   "cell_type": "markdown",
   "metadata": {},
   "source": [
    "Combining All Columns together"
   ]
  },
  {
   "cell_type": "code",
   "execution_count": 58,
   "metadata": {},
   "outputs": [],
   "source": [
    "replaced_data[0] = pd.DataFrame(replaced_data[0].iloc[:,0] + replaced_data[0].iloc[:,1])\n",
    "replaced_data[1] = pd.DataFrame(replaced_data[1].iloc[:,0] + replaced_data[1].iloc[:,1] + replaced_data[1].iloc[:,2]+ replaced_data[1].iloc[:,3])\n",
    "replaced_data[2] = pd.DataFrame(replaced_data[2].iloc[:,0])\n",
    "replaced_data[3] = pd.DataFrame(replaced_data[3].iloc[:,0])\n",
    "replaced_data[4] = pd.DataFrame(replaced_data[4].iloc[:,0])\n",
    "replaced_data[5] = pd.DataFrame(replaced_data[5].iloc[:,0])\n",
    "replaced_data[6] = pd.DataFrame(replaced_data[6].iloc[:,0])\n",
    "replaced_data[7] = pd.DataFrame(replaced_data[7].iloc[:,0] + replaced_data[7].iloc[:,1] + replaced_data[7].iloc[:,2] + replaced_data[7].iloc[:,3])\n",
    "replaced_data[8] = pd.DataFrame(replaced_data[8].iloc[:,0] + replaced_data[8].iloc[:,1] + replaced_data[8].iloc[:,2])\n",
    "replaced_data[9] = pd.DataFrame(replaced_data[9].iloc[:,0] + replaced_data[9].iloc[:,1] + replaced_data[9].iloc[:,2] + replaced_data[9].iloc[:,3] + replaced_data[9].iloc[:,4])\n",
    "replaced_data[10] = pd.DataFrame(replaced_data[10].iloc[:,0] + replaced_data[10].iloc[:,1] + replaced_data[10].iloc[:,2] + replaced_data[10].iloc[:,3] + replaced_data[10].iloc[:,4])\n",
    "replaced_data[11] = pd.DataFrame(replaced_data[11].iloc[:,0] + replaced_data[11].iloc[:,1] + replaced_data[11].iloc[:,2] + replaced_data[11].iloc[:,3] + replaced_data[11].iloc[:,4])\n",
    "replaced_data[12] = pd.DataFrame(replaced_data[12].iloc[:,0])"
   ]
  },
  {
   "attachments": {},
   "cell_type": "markdown",
   "metadata": {},
   "source": [
    "Writing the Column names"
   ]
  },
  {
   "cell_type": "code",
   "execution_count": 59,
   "metadata": {},
   "outputs": [],
   "source": [
    "counter = 0\n",
    "for i in range(1, len(replaced_data)+1):\n",
    "    column_header = 'Q' + str(i)\n",
    "    replaced_data[counter].columns = [column_header]\n",
    "    counter += 1\n",
    "\n",
    "   "
   ]
  },
  {
   "attachments": {},
   "cell_type": "markdown",
   "metadata": {},
   "source": [
    "Final Updated Dataset Making"
   ]
  },
  {
   "cell_type": "code",
   "execution_count": 60,
   "metadata": {},
   "outputs": [],
   "source": [
    "updated_dataframe = pd.DataFrame()\n",
    "for i in replaced_data:\n",
    "  updated_dataframe = pd.concat([updated_dataframe,i],axis=1)\n",
    "updated_dataframe = pd.concat([df_1, updated_dataframe], axis=1)\n",
    "\n"
   ]
  },
  {
   "cell_type": "code",
   "execution_count": 61,
   "metadata": {},
   "outputs": [],
   "source": [
    "updated_dataframe.to_csv(\"formated.csv\")\n"
   ]
  },
  {
   "attachments": {},
   "cell_type": "markdown",
   "metadata": {},
   "source": [
    "# Part 2\n",
    "Missing Values and their Reasons"
   ]
  },
  {
   "cell_type": "code",
   "execution_count": 62,
   "metadata": {},
   "outputs": [],
   "source": [
    "data = pd.read_csv('formated.csv')\n"
   ]
  },
  {
   "attachments": {},
   "cell_type": "markdown",
   "metadata": {},
   "source": [
    "Missing columns Identification "
   ]
  },
  {
   "cell_type": "code",
   "execution_count": 63,
   "metadata": {},
   "outputs": [
    {
     "data": {
      "text/plain": [
       "['Access Code',\n",
       " 'Email Address',\n",
       " 'Region',\n",
       " 'City / Town / District',\n",
       " 'Q4',\n",
       " 'Q5',\n",
       " 'Q6',\n",
       " 'Q7',\n",
       " 'Q8',\n",
       " 'Q9',\n",
       " 'Q10',\n",
       " 'Q11',\n",
       " 'Q12',\n",
       " 'Q13']"
      ]
     },
     "execution_count": 63,
     "metadata": {},
     "output_type": "execute_result"
    }
   ],
   "source": [
    "missing_columns = data.columns[data.isna().any()].tolist()\n",
    "missing_columns"
   ]
  },
  {
   "attachments": {},
   "cell_type": "markdown",
   "metadata": {},
   "source": [
    "There are two columns which are entirely zero so there is no point of cleaning it so dropping those two columns"
   ]
  },
  {
   "cell_type": "code",
   "execution_count": 65,
   "metadata": {},
   "outputs": [],
   "source": [
    "data = data.drop([\"Access Code\", \"Email Address\"], axis=1)\n",
    "\n"
   ]
  },
  {
   "attachments": {},
   "cell_type": "markdown",
   "metadata": {},
   "source": [
    "The region column has alot of repeated values so they have to cleaned with the most occurence value"
   ]
  },
  {
   "cell_type": "code",
   "execution_count": 66,
   "metadata": {},
   "outputs": [
    {
     "data": {
      "text/plain": [
       "['City / Town / District',\n",
       " 'Q4',\n",
       " 'Q5',\n",
       " 'Q6',\n",
       " 'Q7',\n",
       " 'Q8',\n",
       " 'Q9',\n",
       " 'Q10',\n",
       " 'Q11',\n",
       " 'Q12',\n",
       " 'Q13']"
      ]
     },
     "execution_count": 66,
     "metadata": {},
     "output_type": "execute_result"
    }
   ],
   "source": [
    "repeated_region = data[\"Region\"].mode()\n",
    "data[\"Region\"].fillna(repeated_region.values[0], inplace=True)\n",
    "missing_column = data.columns[data.isna().any()].tolist()\n",
    "missing_column\n"
   ]
  },
  {
   "attachments": {},
   "cell_type": "markdown",
   "metadata": {},
   "source": [
    "Same method is applied to City / Town / District Column as well"
   ]
  },
  {
   "cell_type": "code",
   "execution_count": 69,
   "metadata": {},
   "outputs": [
    {
     "data": {
      "text/plain": [
       "['Q4', 'Q5', 'Q6', 'Q7', 'Q8', 'Q9', 'Q10', 'Q11', 'Q12', 'Q13']"
      ]
     },
     "execution_count": 69,
     "metadata": {},
     "output_type": "execute_result"
    }
   ],
   "source": [
    "repeated_region = data[\"City / Town / District\"].mode()\n",
    "data[\"City / Town / District\"].fillna(repeated_region.values[0], inplace=True)\n",
    "missing_column = data.columns[data.isna().any()].tolist()\n",
    "missing_column\n"
   ]
  },
  {
   "attachments": {},
   "cell_type": "markdown",
   "metadata": {},
   "source": [
    "Q3 which is Age column has two breakdowns. one is a space between data and other is age which is written is 1993. \n",
    "The obvious cleaning for this is if age is more than 100 then it will automatically subtract it from 2023 which is current year"
   ]
  },
  {
   "cell_type": "code",
   "execution_count": 71,
   "metadata": {},
   "outputs": [
    {
     "data": {
      "text/plain": [
       "0     23\n",
       "1     24\n",
       "2     40\n",
       "3     26\n",
       "4     30\n",
       "5     25\n",
       "6     24\n",
       "7     30\n",
       "8     24\n",
       "9     26\n",
       "10    24\n",
       "11    25\n",
       "12    25\n",
       "13    23\n",
       "14    31\n",
       "15    26\n",
       "16    40\n",
       "17    23\n",
       "18    25\n",
       "19    22\n",
       "20    23\n",
       "21    25\n",
       "22    22\n",
       "23    23\n",
       "24    27\n",
       "25    28\n",
       "26    23\n",
       "27    35\n",
       "28    27\n",
       "29    25\n",
       "30    55\n",
       "31    23\n",
       "32    29\n",
       "33    23\n",
       "34    24\n",
       "35    28\n",
       "Name: Q3, dtype: int32"
      ]
     },
     "execution_count": 71,
     "metadata": {},
     "output_type": "execute_result"
    }
   ],
   "source": [
    "import numpy as np\n",
    "\n",
    "\n",
    "data['Q3'] = data['Q3'].str.replace(' ', '')\n",
    "# as the values are in string so first we need to convert them into integer\n",
    "data[\"Q3\"] = data['Q3'].astype(int)\n",
    "data['Q3'] = np.where(data['Q3'] > 100, 2022 - data['Q3'], data['Q3'])\n",
    "data['Q3']\n"
   ]
  },
  {
   "attachments": {},
   "cell_type": "markdown",
   "metadata": {},
   "source": []
  },
  {
   "attachments": {},
   "cell_type": "markdown",
   "metadata": {},
   "source": [
    "As Age is a numerical data type so its better to use median in it as it is quantative data type but there are two anomilies 6I and 7O which is creating problems so first have to correct it. "
   ]
  },
  {
   "cell_type": "code",
   "execution_count": 75,
   "metadata": {},
   "outputs": [
    {
     "data": {
      "text/plain": [
       "0     63.0\n",
       "1     59.0\n",
       "2     70.0\n",
       "3     66.0\n",
       "4     70.0\n",
       "5     67.0\n",
       "6     70.0\n",
       "7      5.2\n",
       "8     71.0\n",
       "9     71.0\n",
       "10    66.0\n",
       "11    66.0\n",
       "12    69.0\n",
       "13    66.0\n",
       "14    67.0\n",
       "15    72.0\n",
       "16    68.0\n",
       "17    60.0\n",
       "18    67.0\n",
       "19    67.0\n",
       "20    74.0\n",
       "21    65.0\n",
       "22    67.0\n",
       "23    75.0\n",
       "24    67.0\n",
       "25    68.0\n",
       "26    72.0\n",
       "27    61.0\n",
       "28    64.0\n",
       "29    71.0\n",
       "30    56.0\n",
       "31    70.0\n",
       "32    70.0\n",
       "33    73.0\n",
       "34    68.0\n",
       "35    66.0\n",
       "Name: Q4, dtype: float64"
      ]
     },
     "execution_count": 75,
     "metadata": {},
     "output_type": "execute_result"
    }
   ],
   "source": [
    "data['Q4'] = np.where(data['Q4'] == \"7O\", \"70\", data['Q4'])\n",
    "data['Q4'] = np.where(data['Q4'] == \"6l\", \"61\", data['Q4'])\n",
    "\n",
    "# now converting the entire column to float\n",
    "data['Q4'] = data['Q4'].astype(float)\n",
    "\n",
    "median_region = data[\"Q4\"].mean()\n",
    "data[\"Q4\"].fillna(median_region, inplace=True)\n",
    "missing_column = data.columns[data.isna().any()].tolist()\n",
    "missing_column\n",
    "data['Q4']\n"
   ]
  },
  {
   "attachments": {},
   "cell_type": "markdown",
   "metadata": {},
   "source": [
    "Q5 is a country data so taking mode of it for missing values. Then there are some instances where there is alphabets in the lower and there are some cases where USA is written United States of America etc. "
   ]
  },
  {
   "cell_type": "code",
   "execution_count": 78,
   "metadata": {},
   "outputs": [
    {
     "data": {
      "text/plain": [
       "0            TAIWAN\n",
       "1             INDIA\n",
       "2             INDIA\n",
       "3       SOUTH KOREA\n",
       "4                US\n",
       "5             INDIA\n",
       "6          PAKISTAN\n",
       "7             INDIA\n",
       "8             CHINA\n",
       "9        UZBEKISTAN\n",
       "10              USA\n",
       "11            INDIA\n",
       "12          ROMANIA\n",
       "13            INDIA\n",
       "14            CHINA\n",
       "15       UZBEKISTAN\n",
       "16              USA\n",
       "17            INDIA\n",
       "18         ETHIOPIA\n",
       "19    UNITED STATES\n",
       "20    UNITED STATES\n",
       "21            INDIA\n",
       "22              USA\n",
       "23          NIGERIA\n",
       "24              USA\n",
       "25           TAIWAN\n",
       "26            INDIA\n",
       "27          NIGERIA\n",
       "28            INDIA\n",
       "29            INDIA\n",
       "30    UNITED STATES\n",
       "31            INDIA\n",
       "32    UNITED STATES\n",
       "33              USA\n",
       "34          VIETNAM\n",
       "35       UZBEKISTAN\n",
       "Name: Q5, dtype: object"
      ]
     },
     "execution_count": 78,
     "metadata": {},
     "output_type": "execute_result"
    }
   ],
   "source": [
    "repeated_region = data[\"Q5\"].mode()\n",
    "data[\"Q5\"].fillna(repeated_region.values[0], inplace=True)\n",
    "data['Q5'] = data['Q5'].str.strip()\n",
    "data['Q5'] = data['Q5'].str.upper()\n",
    "data['Q5'] = np.where(data['Q5'] == 'UNITED STATES ; PAKISTAN',\n",
    "                     'UNITED STATES', data['Q5'])\n",
    "\n",
    "data['Q5']\n"
   ]
  },
  {
   "attachments": {},
   "cell_type": "markdown",
   "metadata": {},
   "source": [
    "Q6 is undergraduate degree so first I took the mode and then filled the missing value. After this there was one value YES which had to be replaced with NaN as there was no correspondence value for that. "
   ]
  },
  {
   "cell_type": "code",
   "execution_count": 80,
   "metadata": {},
   "outputs": [
    {
     "data": {
      "text/plain": [
       "0                    ECONOMICS\n",
       "1                      FINANCE\n",
       "2        COMPUTER APPLICATIONS\n",
       "3          BUSINESS MANAGEMENT\n",
       "4                    ECONOMICS\n",
       "5                    ECONOMICS\n",
       "6                      FINANCE\n",
       "7                    ECONOMICS\n",
       "8                     ECONOMIC\n",
       "9       ECONOMICS WITH FINANCE\n",
       "10                         BIT\n",
       "11        COMPUTER ENGINEERING\n",
       "12                     BIOLOGY\n",
       "13                         CSE\n",
       "14                  MANAGEMENT\n",
       "15      ECONOMICS WITH FINANCE\n",
       "16                   ECONOMICS\n",
       "17                 ENGINEERING\n",
       "18         ACCOUNTING AND ISOM\n",
       "19                  STATISTICS\n",
       "20            COMPUTER SCIENCE\n",
       "21            COMPUTER SCIENCE\n",
       "22    MATHEMATICS & STATISTICS\n",
       "23                   ECONOMICS\n",
       "24         SYSTEMS ENGINEERING\n",
       "25           CIVIL ENGINEERING\n",
       "26                         ECE\n",
       "27          QUANTITY SURVEYING\n",
       "28     BACHELOR OF ENGINEERING\n",
       "29                B.TECH IN CS\n",
       "30               BS ACCOUNTING\n",
       "31     BACHELOR OF ENGINEERING\n",
       "32    CRIMINOLOGY LAW AND SOCI\n",
       "33                   ECONOMICS\n",
       "34                     FINANCE\n",
       "35                  PSYCHOLOGY\n",
       "Name: Q6, dtype: object"
      ]
     },
     "execution_count": 80,
     "metadata": {},
     "output_type": "execute_result"
    }
   ],
   "source": [
    "repeated_region = data[\"Q6\"].mode()\n",
    "data[\"Q6\"].fillna(repeated_region.values[0], inplace=True)\n",
    "data['Q6'] = data['Q6'].str.strip()\n",
    "data['Q6'] = data['Q6'].str.upper()\n",
    "data['Q6'] = data['Q6'].replace('YES',np.NaN)\n",
    "data['Q6']"
   ]
  },
  {
   "attachments": {},
   "cell_type": "markdown",
   "metadata": {},
   "source": [
    "Q7 was the date paramter which is a string so took the repeated region method"
   ]
  },
  {
   "cell_type": "code",
   "execution_count": 81,
   "metadata": {},
   "outputs": [],
   "source": [
    "repeated_region = data[\"Q7\"].mode()\n",
    "data[\"Q7\"].fillna(repeated_region.values[0], inplace=True)\n"
   ]
  },
  {
   "attachments": {},
   "cell_type": "markdown",
   "metadata": {},
   "source": [
    "Q8 was the column which had the type of machine user has which has anomilies within the string provided. So a common string was indentified as than replaced. for missing values the mode technique was used"
   ]
  },
  {
   "cell_type": "code",
   "execution_count": 85,
   "metadata": {},
   "outputs": [
    {
     "data": {
      "text/plain": [
       "0         Apple/MacBook\n",
       "1         Apple/MacBook\n",
       "2         Apple/MacBook\n",
       "3     Microsoft/Windows\n",
       "4         Apple/MacBook\n",
       "5     Microsoft/Windows\n",
       "6     Microsoft/Windows\n",
       "7     Microsoft/Windows\n",
       "8     Microsoft/Windows\n",
       "9     Microsoft/Windows\n",
       "10    Microsoft/Windows\n",
       "11    Microsoft/Windows\n",
       "12        Apple/MacBook\n",
       "13    Microsoft/Windows\n",
       "14    Microsoft/Windows\n",
       "15    Microsoft/Windows\n",
       "16    Microsoft/Windows\n",
       "17    Microsoft/Windows\n",
       "18    Microsoft/Windows\n",
       "19        Apple/MacBook\n",
       "20    Microsoft/Windows\n",
       "21    Microsoft/Windows\n",
       "22    Microsoft/Windows\n",
       "23    Microsoft/Windows\n",
       "24    Microsoft/Windows\n",
       "25    Microsoft/Windows\n",
       "26        Apple/MacBook\n",
       "27    Microsoft/Windows\n",
       "28    Microsoft/Windows\n",
       "29        Apple/MacBook\n",
       "30    Microsoft/Windows\n",
       "31    Microsoft/Windows\n",
       "32    Microsoft/Windows\n",
       "33    Microsoft/Windows\n",
       "34    Microsoft/Windows\n",
       "35    Microsoft/Windows\n",
       "Name: Q8, dtype: object"
      ]
     },
     "execution_count": 85,
     "metadata": {},
     "output_type": "execute_result"
    }
   ],
   "source": [
    "data['Q8'] = np.where(data['Q8'] == '2', 'Apple/MacBook', data['Q8'])\n",
    "data['Q8'] = np.where(data['Q8'] == 'OtherAcer/Windows',\n",
    "                     'Microsoft/Windows', data['Q8'])\n",
    "data['Q8'] = np.where(\n",
    "    data['Q8'] == 'Microsoft/WindowsApple/MacBook', 'Microsoft/Windows', data['Q8'])\n",
    "data['Q8'] = np.where(data['Q8'] == '0', 'Microsoft/Windows', data['Q8'])\n",
    "\n",
    "repeated_region = data[\"Q8\"].mode()\n",
    "data[\"Q8\"].fillna(repeated_region.values[0], inplace=True)\n",
    "data['Q8']\n"
   ]
  },
  {
   "attachments": {},
   "cell_type": "markdown",
   "metadata": {},
   "source": [
    "Q9 again has only missing values so mode technique sorted it out"
   ]
  },
  {
   "cell_type": "code",
   "execution_count": 86,
   "metadata": {},
   "outputs": [
    {
     "data": {
      "text/plain": [
       "0     Not Working while attending Mason\n",
       "1            Working, but not Full Time\n",
       "2                        Yes, Full Time\n",
       "3     Not Working while attending Mason\n",
       "4                        Yes, Full Time\n",
       "5     Not Working while attending Mason\n",
       "6            Working, but not Full Time\n",
       "7     Not Working while attending Mason\n",
       "8                        Yes, Full Time\n",
       "9     Not Working while attending Mason\n",
       "10    Not Working while attending Mason\n",
       "11    Not Working while attending Mason\n",
       "12           Working, but not Full Time\n",
       "13    Not Working while attending Mason\n",
       "14    Not Working while attending Mason\n",
       "15    Not Working while attending Mason\n",
       "16                       Yes, Full Time\n",
       "17    Not Working while attending Mason\n",
       "18    Not Working while attending Mason\n",
       "19           Working, but not Full Time\n",
       "20                       Yes, Full Time\n",
       "21    Not Working while attending Mason\n",
       "22           Working, but not Full Time\n",
       "23    Not Working while attending Mason\n",
       "24                       Yes, Full Time\n",
       "25                       Yes, Full Time\n",
       "26    Not Working while attending Mason\n",
       "27    Not Working while attending Mason\n",
       "28    Not Working while attending Mason\n",
       "29    Not Working while attending Mason\n",
       "30                       Yes, Full Time\n",
       "31    Not Working while attending Mason\n",
       "32                       Yes, Full Time\n",
       "33                       Yes, Full Time\n",
       "34    Not Working while attending Mason\n",
       "35                       Yes, Full Time\n",
       "Name: Q9, dtype: object"
      ]
     },
     "execution_count": 86,
     "metadata": {},
     "output_type": "execute_result"
    }
   ],
   "source": [
    "repeated_region = data[\"Q9\"].mode()\n",
    "data[\"Q9\"].fillna(repeated_region.values[0], inplace=True)\n",
    "data[\"Q9\"]"
   ]
  },
  {
   "cell_type": "code",
   "execution_count": 87,
   "metadata": {},
   "outputs": [
    {
     "data": {
      "text/plain": [
       "0              Some familiarity\n",
       "1                  Average user\n",
       "2              Some familiarity\n",
       "3                  Average user\n",
       "4              Some familiarity\n",
       "5                  Average user\n",
       "6                  Average user\n",
       "7                  Average user\n",
       "8              Some familiarity\n",
       "9                  Average user\n",
       "10                  Little/none\n",
       "11    Frequent use for projects\n",
       "12             Some familiarity\n",
       "13                 Average user\n",
       "14                 Average user\n",
       "15             Some familiarity\n",
       "16                 Average user\n",
       "17    Frequent use for projects\n",
       "18                  Little/none\n",
       "19             Some familiarity\n",
       "20             Some familiarity\n",
       "21             Some familiarity\n",
       "22             Some familiarity\n",
       "23                  Little/none\n",
       "24                 Average user\n",
       "25                 Average user\n",
       "26                 Average user\n",
       "27                 Average user\n",
       "28                 Average user\n",
       "29                 Average user\n",
       "30                  Little/none\n",
       "31                 Average user\n",
       "32                 Average user\n",
       "33                 Average user\n",
       "34             Some familiarity\n",
       "35             Some familiarity\n",
       "Name: Q10, dtype: object"
      ]
     },
     "execution_count": 87,
     "metadata": {},
     "output_type": "execute_result"
    }
   ],
   "source": [
    "repeated_region = data[\"Q10\"].mode()\n",
    "data[\"Q10\"].fillna(repeated_region.values[0], inplace=True)\n",
    "data[\"Q10\"]\n"
   ]
  },
  {
   "cell_type": "code",
   "execution_count": 88,
   "metadata": {},
   "outputs": [
    {
     "data": {
      "text/plain": [
       "0                   Little/none\n",
       "1                  Average user\n",
       "2                   Little/none\n",
       "3     Frequent use for projects\n",
       "4              Some familiarity\n",
       "5                  Average user\n",
       "6                  Average user\n",
       "7                  Average user\n",
       "8     Frequent use for projects\n",
       "9                  Average user\n",
       "10                  Little/none\n",
       "11                 Average user\n",
       "12                 Average user\n",
       "13                 Average user\n",
       "14                  Little/none\n",
       "15             Some familiarity\n",
       "16             Some familiarity\n",
       "17    Frequent use for projects\n",
       "18                  Little/none\n",
       "19                Fluent/expert\n",
       "20             Some familiarity\n",
       "21                  Little/none\n",
       "22    Frequent use for projects\n",
       "23                  Little/none\n",
       "24                 Average user\n",
       "25             Some familiarity\n",
       "26    Frequent use for projects\n",
       "27    Frequent use for projects\n",
       "28                 Average user\n",
       "29                 Average user\n",
       "30             Some familiarity\n",
       "31    Frequent use for projects\n",
       "32             Some familiarity\n",
       "33                 Average user\n",
       "34             Some familiarity\n",
       "35                  Little/none\n",
       "Name: Q11, dtype: object"
      ]
     },
     "execution_count": 88,
     "metadata": {},
     "output_type": "execute_result"
    }
   ],
   "source": [
    "repeated_region = data[\"Q11\"].mode()\n",
    "data[\"Q11\"].fillna(repeated_region.values[0], inplace=True)\n",
    "data[\"Q11\"]\n"
   ]
  },
  {
   "cell_type": "code",
   "execution_count": 89,
   "metadata": {},
   "outputs": [
    {
     "data": {
      "text/plain": [
       "0              Some familiarity\n",
       "1                   Little/none\n",
       "2                  Average user\n",
       "3              Some familiarity\n",
       "4                  Average user\n",
       "5                  Average user\n",
       "6                  Average user\n",
       "7                  Average user\n",
       "8                  Average user\n",
       "9                  Average user\n",
       "10             Some familiarity\n",
       "11    Frequent use for projects\n",
       "12                 Average user\n",
       "13                 Average user\n",
       "14                  Little/none\n",
       "15             Some familiarity\n",
       "16             Some familiarity\n",
       "17                 Average user\n",
       "18                 Average user\n",
       "19                 Average user\n",
       "20             Some familiarity\n",
       "21                 Average user\n",
       "22                  Little/none\n",
       "23                  Little/none\n",
       "24                 Average user\n",
       "25             Some familiarity\n",
       "26                 Average user\n",
       "27                 Average user\n",
       "28                 Average user\n",
       "29    Frequent use for projects\n",
       "30             Some familiarity\n",
       "31    Frequent use for projects\n",
       "32             Some familiarity\n",
       "33                 Average user\n",
       "34             Some familiarity\n",
       "35                  Little/none\n",
       "Name: Q12, dtype: object"
      ]
     },
     "execution_count": 89,
     "metadata": {},
     "output_type": "execute_result"
    }
   ],
   "source": [
    "repeated_region = data[\"Q12\"].mode()\n",
    "data[\"Q12\"].fillna(repeated_region.values[0], inplace=True)\n",
    "data[\"Q12\"]\n"
   ]
  },
  {
   "attachments": {},
   "cell_type": "markdown",
   "metadata": {},
   "source": [
    "Q13 has long sentences so I just filled it with missing values"
   ]
  },
  {
   "cell_type": "code",
   "execution_count": 90,
   "metadata": {},
   "outputs": [],
   "source": [
    "data[\"Q13\"].fillna('', inplace=True)\n"
   ]
  },
  {
   "attachments": {},
   "cell_type": "markdown",
   "metadata": {},
   "source": [
    "Transfering the file to formatted"
   ]
  },
  {
   "cell_type": "code",
   "execution_count": 91,
   "metadata": {},
   "outputs": [],
   "source": [
    "data.to_csv(\"cleaned.csv\")\n"
   ]
  },
  {
   "attachments": {},
   "cell_type": "markdown",
   "metadata": {},
   "source": [
    "# Part 3\n",
    "Statistical Analysis"
   ]
  },
  {
   "cell_type": "code",
   "execution_count": 92,
   "metadata": {},
   "outputs": [],
   "source": [
    "counter = 0\n",
    "statistical_data = []\n",
    "for i in range(1, len(replaced_data)+1):\n",
    "    column_header = 'Q' + str(i)\n",
    "    temp = data[column_header].describe()\n",
    "    statistical_data.append(temp)\n",
    "    counter += 1\n"
   ]
  },
  {
   "cell_type": "code",
   "execution_count": 93,
   "metadata": {},
   "outputs": [
    {
     "data": {
      "text/plain": [
       "count    36.000000\n",
       "mean      2.888889\n",
       "std       1.007905\n",
       "min       2.000000\n",
       "25%       2.000000\n",
       "50%       2.000000\n",
       "75%       4.000000\n",
       "max       4.000000\n",
       "Name: Q1, dtype: float64"
      ]
     },
     "execution_count": 93,
     "metadata": {},
     "output_type": "execute_result"
    }
   ],
   "source": [
    "statistical_data[0]"
   ]
  },
  {
   "attachments": {},
   "cell_type": "markdown",
   "metadata": {},
   "source": [
    "Result: Mean is close to 3 so it means that most of the students belong to 003 section"
   ]
  },
  {
   "cell_type": "code",
   "execution_count": 94,
   "metadata": {},
   "outputs": [
    {
     "data": {
      "text/plain": [
       "count       36\n",
       "unique       4\n",
       "top       Male\n",
       "freq        18\n",
       "Name: Q2, dtype: object"
      ]
     },
     "execution_count": 94,
     "metadata": {},
     "output_type": "execute_result"
    }
   ],
   "source": [
    "statistical_data[1]\n"
   ]
  },
  {
   "attachments": {},
   "cell_type": "markdown",
   "metadata": {},
   "source": [
    "Result: This shows that majority of the students are Male"
   ]
  },
  {
   "cell_type": "code",
   "execution_count": 95,
   "metadata": {},
   "outputs": [
    {
     "data": {
      "text/plain": [
       "count    36.000000\n",
       "mean     27.111111\n",
       "std       6.492975\n",
       "min      22.000000\n",
       "25%      23.000000\n",
       "50%      25.000000\n",
       "75%      28.000000\n",
       "max      55.000000\n",
       "Name: Q3, dtype: float64"
      ]
     },
     "execution_count": 95,
     "metadata": {},
     "output_type": "execute_result"
    }
   ],
   "source": [
    "statistical_data[2]\n"
   ]
  },
  {
   "attachments": {},
   "cell_type": "markdown",
   "metadata": {},
   "source": [
    "Result: The average age of student enrolled is 27 however there are range of students from 22 to 55 enrolled which creates a diversity in class. "
   ]
  },
  {
   "cell_type": "code",
   "execution_count": 96,
   "metadata": {},
   "outputs": [
    {
     "data": {
      "text/plain": [
       "count    36.000000\n",
       "mean     65.755556\n",
       "std      11.169459\n",
       "min       5.200000\n",
       "25%      66.000000\n",
       "50%      67.000000\n",
       "75%      70.000000\n",
       "max      75.000000\n",
       "Name: Q4, dtype: float64"
      ]
     },
     "execution_count": 96,
     "metadata": {},
     "output_type": "execute_result"
    }
   ],
   "source": [
    "statistical_data[3]\n"
   ]
  },
  {
   "attachments": {},
   "cell_type": "markdown",
   "metadata": {},
   "source": [
    "Result: On average the height of student is 65. the standard deviation shows that their is widespread of diversity which shows that how far the height is spreaded. "
   ]
  },
  {
   "cell_type": "code",
   "execution_count": 97,
   "metadata": {},
   "outputs": [
    {
     "data": {
      "text/plain": [
       "count        36\n",
       "unique       13\n",
       "top       INDIA\n",
       "freq         12\n",
       "Name: Q5, dtype: object"
      ]
     },
     "execution_count": 97,
     "metadata": {},
     "output_type": "execute_result"
    }
   ],
   "source": [
    "statistical_data[4]\n"
   ]
  },
  {
   "attachments": {},
   "cell_type": "markdown",
   "metadata": {},
   "source": [
    "Result: There are 13 unique students belonging from unique ethnicity however majority of students are from INDIA"
   ]
  },
  {
   "cell_type": "code",
   "execution_count": 98,
   "metadata": {},
   "outputs": [
    {
     "data": {
      "text/plain": [
       "count            36\n",
       "unique           25\n",
       "top       ECONOMICS\n",
       "freq              7\n",
       "Name: Q6, dtype: object"
      ]
     },
     "execution_count": 98,
     "metadata": {},
     "output_type": "execute_result"
    }
   ],
   "source": [
    "statistical_data[5]\n"
   ]
  },
  {
   "attachments": {},
   "cell_type": "markdown",
   "metadata": {},
   "source": [
    "Result: This shows that Economic is the favorite subject in wwhich most of the students are enrolled in. "
   ]
  },
  {
   "cell_type": "code",
   "execution_count": 99,
   "metadata": {},
   "outputs": [
    {
     "data": {
      "text/plain": [
       "count             36\n",
       "unique            24\n",
       "top       2021-12-20\n",
       "freq               6\n",
       "Name: Q7, dtype: object"
      ]
     },
     "execution_count": 99,
     "metadata": {},
     "output_type": "execute_result"
    }
   ],
   "source": [
    "statistical_data[6]\n"
   ]
  },
  {
   "attachments": {},
   "cell_type": "markdown",
   "metadata": {},
   "source": [
    "Result: It shows that students will be graduating in 2021-12-20"
   ]
  },
  {
   "cell_type": "code",
   "execution_count": 100,
   "metadata": {},
   "outputs": [
    {
     "data": {
      "text/plain": [
       "count                    36\n",
       "unique                    2\n",
       "top       Microsoft/Windows\n",
       "freq                     28\n",
       "Name: Q8, dtype: object"
      ]
     },
     "execution_count": 100,
     "metadata": {},
     "output_type": "execute_result"
    }
   ],
   "source": [
    "statistical_data[7]\n"
   ]
  },
  {
   "attachments": {},
   "cell_type": "markdown",
   "metadata": {},
   "source": [
    "Result: It seems that Majority of the students use Microsoft Windows Laptop"
   ]
  },
  {
   "cell_type": "code",
   "execution_count": 101,
   "metadata": {},
   "outputs": [
    {
     "data": {
      "text/plain": [
       "count                                    36\n",
       "unique                                    3\n",
       "top       Not Working while attending Mason\n",
       "freq                                     20\n",
       "Name: Q9, dtype: object"
      ]
     },
     "execution_count": 101,
     "metadata": {},
     "output_type": "execute_result"
    }
   ],
   "source": [
    "statistical_data[8]\n"
   ]
  },
  {
   "attachments": {},
   "cell_type": "markdown",
   "metadata": {},
   "source": [
    "Result: It seems that majority of the students dont work while being enrolled in Mason"
   ]
  },
  {
   "cell_type": "code",
   "execution_count": 102,
   "metadata": {},
   "outputs": [
    {
     "data": {
      "text/plain": [
       "count               36\n",
       "unique               4\n",
       "top       Average user\n",
       "freq                18\n",
       "Name: Q10, dtype: object"
      ]
     },
     "execution_count": 102,
     "metadata": {},
     "output_type": "execute_result"
    }
   ],
   "source": [
    "statistical_data[9]\n"
   ]
  },
  {
   "attachments": {},
   "cell_type": "markdown",
   "metadata": {},
   "source": [
    "Result: Around half of the students are considered as an average coder in Python"
   ]
  },
  {
   "cell_type": "code",
   "execution_count": 103,
   "metadata": {},
   "outputs": [
    {
     "data": {
      "text/plain": [
       "count               36\n",
       "unique               5\n",
       "top       Average user\n",
       "freq                12\n",
       "Name: Q11, dtype: object"
      ]
     },
     "execution_count": 103,
     "metadata": {},
     "output_type": "execute_result"
    }
   ],
   "source": [
    "statistical_data[10]\n"
   ]
  },
  {
   "attachments": {},
   "cell_type": "markdown",
   "metadata": {},
   "source": [
    "Result: many students consider themselves as an average coder in R."
   ]
  },
  {
   "cell_type": "code",
   "execution_count": 104,
   "metadata": {},
   "outputs": [
    {
     "data": {
      "text/plain": [
       "count               36\n",
       "unique               4\n",
       "top       Average user\n",
       "freq                18\n",
       "Name: Q12, dtype: object"
      ]
     },
     "execution_count": 104,
     "metadata": {},
     "output_type": "execute_result"
    }
   ],
   "source": [
    "statistical_data[11]\n"
   ]
  },
  {
   "attachments": {},
   "cell_type": "markdown",
   "metadata": {},
   "source": [
    "Result: Similar Intrepreation as above"
   ]
  },
  {
   "cell_type": "code",
   "execution_count": 105,
   "metadata": {},
   "outputs": [
    {
     "data": {
      "text/plain": [
       "count     36\n",
       "unique    28\n",
       "top         \n",
       "freq       9\n",
       "Name: Q13, dtype: object"
      ]
     },
     "execution_count": 105,
     "metadata": {},
     "output_type": "execute_result"
    }
   ],
   "source": [
    "statistical_data[12]\n"
   ]
  }
 ],
 "metadata": {
  "kernelspec": {
   "display_name": "Python 3",
   "language": "python",
   "name": "python3"
  },
  "language_info": {
   "codemirror_mode": {
    "name": "ipython",
    "version": 3
   },
   "file_extension": ".py",
   "mimetype": "text/x-python",
   "name": "python",
   "nbconvert_exporter": "python",
   "pygments_lexer": "ipython3",
   "version": "3.10.6"
  },
  "orig_nbformat": 4,
  "vscode": {
   "interpreter": {
    "hash": "709614b38d1699ddf5994d330167a570738408e58b75c68d289075f231c1a920"
   }
  }
 },
 "nbformat": 4,
 "nbformat_minor": 2
}
