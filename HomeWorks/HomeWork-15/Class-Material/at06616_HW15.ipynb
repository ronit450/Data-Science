{
 "cells": [
  {
   "cell_type": "code",
   "execution_count": 1,
   "metadata": {},
   "outputs": [
    {
     "name": "stderr",
     "output_type": "stream",
     "text": [
      "C:\\Users\\Ronit Kataria\\AppData\\Local\\Temp\\ipykernel_7712\\1789447527.py:2: UserWarning: \n",
      "The dash_core_components package is deprecated. Please replace\n",
      "`import dash_core_components as dcc` with `from dash import dcc`\n",
      "  import dash_core_components as dcc\n",
      "C:\\Users\\Ronit Kataria\\AppData\\Local\\Temp\\ipykernel_7712\\1789447527.py:3: UserWarning: \n",
      "The dash_html_components package is deprecated. Please replace\n",
      "`import dash_html_components as html` with `from dash import html`\n",
      "  import dash_html_components as html\n"
     ]
    }
   ],
   "source": [
    "import dash\n",
    "import dash_core_components as dcc\n",
    "import dash_html_components as html\n",
    "import pandas as pd\n",
    "import plotly.express as px\n"
   ]
  },
  {
   "cell_type": "code",
   "execution_count": 2,
   "metadata": {},
   "outputs": [],
   "source": [
    "df = pd.read_csv(\"loan_small.csv\")"
   ]
  },
  {
   "cell_type": "code",
   "execution_count": 3,
   "metadata": {},
   "outputs": [],
   "source": [
    "df[\"emp_length\"] = df[\"emp_length\"].str.replace(\"years\", \" \")\n",
    "df[\"emp_length\"] = df[\"emp_length\"].str.replace(\"year\", \" \")\n",
    "df[\"emp_length\"] = df[\"emp_length\"].str.replace(\"10+ \", \"11\", regex = False)\n",
    "df[\"emp_length\"] = df[\"emp_length\"].str.replace(\"< 1\", \"0.5\", regex = False)\n",
    "df[\"emp_length\"] = df[\"emp_length\"].astype(float)\n",
    "df[\"loan_status\"] = df[\"loan_status\"].str.replace(\"Fully Paid\", \"good\")\n",
    "df[\"loan_status\"] = df[\"loan_status\"].str.replace(\"Charged Off\", \"bad\")\n",
    "df[\"loan_status\"] = df[\"loan_status\"].str.replace(\"Current\", \"good\")\n",
    "df[\"loan_status\"] = df[\"loan_status\"].str.replace(\"Late (31-120 days)\", \"bad\", regex = False)\n",
    "df[\"loan_status\"] = df[\"loan_status\"].str.replace(\"Default\", \"good\")"
   ]
  },
  {
   "cell_type": "code",
   "execution_count": 4,
   "metadata": {},
   "outputs": [],
   "source": [
    "df[\"term\"] = df[\"term\"].str.replace(\"months\", \" \").astype(int)"
   ]
  },
  {
   "cell_type": "code",
   "execution_count": 5,
   "metadata": {},
   "outputs": [
    {
     "name": "stdout",
     "output_type": "stream",
     "text": [
      "Dash is running on http://127.0.0.1:8050/\n",
      "\n",
      " * Serving Flask app '__main__'\n",
      " * Debug mode: on\n"
     ]
    }
   ],
   "source": [
    "# I have plotted the variation of installment n the form of a box plot where the grade and the home ownership can be decided using the interactive elements on the screen\n",
    "fig = px.box(df, x='home_ownership', y='installment', color=\"grade\")\n",
    "app = dash.Dash(__name__)\n",
    "\n",
    "colors = {\n",
    "    'background': '#111111',\n",
    "    'text': '#E0B8C0'\n",
    "}\n",
    "\n",
    "app.layout = html.Div(children=[\n",
    "\n",
    "    html.H1(\n",
    "        children='Visualization of Loan Data',\n",
    "        style={\n",
    "            'textAlign': 'center',\n",
    "            'color': colors['text']\n",
    "        }\n",
    "    ),\n",
    "\n",
    "    html.Div(children='This Visualisation uses a Box Plot to visualize the variation of installments as a box plot on our particular selection of home_owner ship and the grade ', style={\n",
    "        'color': colors['text']\n",
    "    }),\n",
    "\n",
    "    # Drop down for deciding the grade\n",
    "    dcc.Dropdown(\n",
    "        id='gradeDropdown',\n",
    "        options=[ {'label': i, 'value': i} for i in df['grade'].unique()],\n",
    "        value='A'\n",
    "    ),\n",
    "\n",
    "    # This drop down helps us select the home owner ship status that we want to see the graph for \n",
    "\n",
    "    dcc.Dropdown(\n",
    "        id='homeDropdown',\n",
    "        options=[ {'label': i, 'value': i} for i in df['home_ownership'].unique()],\n",
    "        value='RENT'\n",
    "    ),\n",
    "\n",
    "    dcc.Graph(\n",
    "        id='boxPlot',\n",
    "        figure=fig\n",
    "    )\n",
    "])\n",
    "\n",
    "@app.callback(\n",
    "    dash.dependencies.Output(component_id='boxPlot', component_property='figure'),\n",
    "    [dash.dependencies.Input(component_id='gradeDropdown', component_property='value'),\n",
    "    dash.dependencies.Input(component_id='homeDropdown', component_property='value')]\n",
    ")\n",
    "def update_plot(grade,home_ownership):\n",
    "\n",
    "    filtered_df = df[(df['grade']==grade) & (df[\"home_ownership\"]==home_ownership)]\n",
    "    fig = px.box(filtered_df, x=\"home_ownership\", y=\"installment\", color=\"grade\")\n",
    "\n",
    "    return fig\n",
    "\n",
    "# Run the app\n",
    "if __name__ == '__main__':\n",
    "    app.run_server(debug=True,use_reloader=False)\n"
   ]
  }
 ],
 "metadata": {
  "kernelspec": {
   "display_name": "Python 3",
   "language": "python",
   "name": "python3"
  },
  "language_info": {
   "codemirror_mode": {
    "name": "ipython",
    "version": 3
   },
   "file_extension": ".py",
   "mimetype": "text/x-python",
   "name": "python",
   "nbconvert_exporter": "python",
   "pygments_lexer": "ipython3",
   "version": "3.10.6"
  },
  "orig_nbformat": 4
 },
 "nbformat": 4,
 "nbformat_minor": 2
}
