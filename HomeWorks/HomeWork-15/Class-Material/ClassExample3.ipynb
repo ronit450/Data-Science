{
 "cells": [
  {
   "cell_type": "code",
   "execution_count": 2,
   "id": "ac9bf2f8",
   "metadata": {},
   "outputs": [
    {
     "name": "stdout",
     "output_type": "stream",
     "text": [
      "Dash is running on http://127.0.0.1:8050/\n",
      "\n",
      " * Serving Flask app '__main__'\n",
      " * Debug mode: off\n"
     ]
    },
    {
     "name": "stderr",
     "output_type": "stream",
     "text": [
      "WARNING: This is a development server. Do not use it in a production deployment. Use a production WSGI server instead.\n",
      " * Running on http://127.0.0.1:8050\n",
      "Press CTRL+C to quit\n",
      "127.0.0.1 - - [30/Apr/2023 17:05:03] \"GET / HTTP/1.1\" 200 -\n",
      "127.0.0.1 - - [30/Apr/2023 17:05:03] \"GET /_dash-component-suites/dash/deps/react-dom@16.v2_9_3m1682798491.14.0.min.js HTTP/1.1\" 200 -\n",
      "127.0.0.1 - - [30/Apr/2023 17:05:03] \"GET /_dash-component-suites/dash/deps/prop-types@15.v2_9_3m1682798491.8.1.min.js HTTP/1.1\" 200 -\n",
      "127.0.0.1 - - [30/Apr/2023 17:05:03] \"GET /_dash-component-suites/dash/deps/react@16.v2_9_3m1682798491.14.0.min.js HTTP/1.1\" 200 -\n",
      "127.0.0.1 - - [30/Apr/2023 17:05:03] \"GET /_dash-component-suites/dash/dash-renderer/build/dash_renderer.v2_9_3m1682798490.min.js HTTP/1.1\" 200 -\n",
      "127.0.0.1 - - [30/Apr/2023 17:05:03] \"GET /_dash-layout HTTP/1.1\" 200 -\n",
      "127.0.0.1 - - [30/Apr/2023 17:05:03] \"GET /_dash-dependencies HTTP/1.1\" 200 -\n",
      "127.0.0.1 - - [30/Apr/2023 17:05:03] \"GET /_dash-component-suites/dash/dcc/async-dropdown.js HTTP/1.1\" 304 -\n",
      "127.0.0.1 - - [30/Apr/2023 17:05:03] \"GET /_dash-component-suites/dash/dcc/async-graph.js HTTP/1.1\" 304 -\n",
      "127.0.0.1 - - [30/Apr/2023 17:05:03] \"GET /_dash-component-suites/dash/dcc/async-plotlyjs.js HTTP/1.1\" 304 -\n",
      "127.0.0.1 - - [30/Apr/2023 17:05:05] \"POST /_dash-update-component HTTP/1.1\" 200 -\n",
      "127.0.0.1 - - [30/Apr/2023 17:05:08] \"POST /_dash-update-component HTTP/1.1\" 200 -\n",
      "127.0.0.1 - - [30/Apr/2023 17:05:12] \"POST /_dash-update-component HTTP/1.1\" 200 -\n"
     ]
    }
   ],
   "source": [
    "import dash\n",
    "import dash_core_components as dcc\n",
    "import dash_html_components as html\n",
    "from dash.dependencies import Output, Input\n",
    "import plotly.express as px\n",
    "\n",
    "app = dash.Dash(__name__)\n",
    "\n",
    "\n",
    "app.layout = html.Div([\n",
    "    html.H4('Restaurant tips by day of week'),\n",
    "    dcc.Dropdown(\n",
    "        id=\"bar-chart-x-dropdown\",\n",
    "        options=[\n",
    "            {'label':'Friday', 'value':'Fri'},\n",
    "            {'label':'Saturday', 'value':'Sat'},\n",
    "            {'label':'Sunday', 'value':'Sun'},\n",
    "            ],\n",
    "        value=\"Fri\",\n",
    "        clearable=False,\n",
    "    ),\n",
    "    dcc.Graph(id=\"bar-chart-x-graph\"),\n",
    "])\n",
    "\n",
    "\n",
    "@app.callback(\n",
    "    Output(\"bar-chart-x-graph\", \"figure\"), \n",
    "    Input(\"bar-chart-x-dropdown\", \"value\"))\n",
    "def update_bar_chart(day):\n",
    "    df = px.data.tips() # replace with your own data source\n",
    "    mask = df[\"day\"] == day\n",
    "    fig = px.bar(df[mask], x=\"sex\", y=\"total_bill\", \n",
    "                 color=\"smoker\", barmode=\"group\")\n",
    "    return fig\n",
    "\n",
    "\n",
    "if __name__ == \"__main__\":\n",
    "    app.run_server()"
   ]
  },
  {
   "cell_type": "code",
   "execution_count": 5,
   "id": "63e4bd3e",
   "metadata": {},
   "outputs": [],
   "source": [
    "df = px.data.tips()\n",
    "df"
   ]
  }
 ],
 "metadata": {
  "kernelspec": {
   "display_name": "Python 3 (ipykernel)",
   "language": "python",
   "name": "python3"
  },
  "language_info": {
   "codemirror_mode": {
    "name": "ipython",
    "version": 3
   },
   "file_extension": ".py",
   "mimetype": "text/x-python",
   "name": "python",
   "nbconvert_exporter": "python",
   "pygments_lexer": "ipython3",
   "version": "3.10.6"
  }
 },
 "nbformat": 4,
 "nbformat_minor": 5
}
